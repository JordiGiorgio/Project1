{
 "cells": [
  {
   "cell_type": "code",
   "execution_count": 173,
   "metadata": {},
   "outputs": [],
   "source": [
    "import pandas as pd\n",
    "data = pd.read_csv('airlines.csv')"
   ]
  },
  {
   "cell_type": "code",
   "execution_count": 174,
   "metadata": {},
   "outputs": [
    {
     "data": {
      "text/html": [
       "<div>\n",
       "<style scoped>\n",
       "    .dataframe tbody tr th:only-of-type {\n",
       "        vertical-align: middle;\n",
       "    }\n",
       "\n",
       "    .dataframe tbody tr th {\n",
       "        vertical-align: top;\n",
       "    }\n",
       "\n",
       "    .dataframe thead th {\n",
       "        text-align: right;\n",
       "    }\n",
       "</style>\n",
       "<table border=\"1\" class=\"dataframe\">\n",
       "  <thead>\n",
       "    <tr style=\"text-align: right;\">\n",
       "      <th></th>\n",
       "      <th>satisfaction</th>\n",
       "      <th>Gender</th>\n",
       "      <th>Customer Type</th>\n",
       "      <th>Age</th>\n",
       "      <th>Type of Travel</th>\n",
       "      <th>Class</th>\n",
       "      <th>Flight Distance</th>\n",
       "      <th>Seat comfort</th>\n",
       "      <th>Departure/Arrival time convenient</th>\n",
       "      <th>Food and drink</th>\n",
       "      <th>...</th>\n",
       "      <th>Online support</th>\n",
       "      <th>Ease of Online booking</th>\n",
       "      <th>On-board service</th>\n",
       "      <th>Leg room service</th>\n",
       "      <th>Baggage handling</th>\n",
       "      <th>Checkin service</th>\n",
       "      <th>Cleanliness</th>\n",
       "      <th>Online boarding</th>\n",
       "      <th>Departure Delay in Minutes</th>\n",
       "      <th>Arrival Delay in Minutes</th>\n",
       "    </tr>\n",
       "  </thead>\n",
       "  <tbody>\n",
       "    <tr>\n",
       "      <th>0</th>\n",
       "      <td>satisfied</td>\n",
       "      <td>Female</td>\n",
       "      <td>Loyal Customer</td>\n",
       "      <td>65</td>\n",
       "      <td>Personal Travel</td>\n",
       "      <td>Eco</td>\n",
       "      <td>265</td>\n",
       "      <td>0</td>\n",
       "      <td>0</td>\n",
       "      <td>0</td>\n",
       "      <td>...</td>\n",
       "      <td>2</td>\n",
       "      <td>3</td>\n",
       "      <td>3</td>\n",
       "      <td>0</td>\n",
       "      <td>3</td>\n",
       "      <td>5</td>\n",
       "      <td>3</td>\n",
       "      <td>2</td>\n",
       "      <td>0</td>\n",
       "      <td>0.0</td>\n",
       "    </tr>\n",
       "    <tr>\n",
       "      <th>1</th>\n",
       "      <td>satisfied</td>\n",
       "      <td>Male</td>\n",
       "      <td>Loyal Customer</td>\n",
       "      <td>47</td>\n",
       "      <td>Personal Travel</td>\n",
       "      <td>Business</td>\n",
       "      <td>2464</td>\n",
       "      <td>0</td>\n",
       "      <td>0</td>\n",
       "      <td>0</td>\n",
       "      <td>...</td>\n",
       "      <td>2</td>\n",
       "      <td>3</td>\n",
       "      <td>4</td>\n",
       "      <td>4</td>\n",
       "      <td>4</td>\n",
       "      <td>2</td>\n",
       "      <td>3</td>\n",
       "      <td>2</td>\n",
       "      <td>310</td>\n",
       "      <td>305.0</td>\n",
       "    </tr>\n",
       "    <tr>\n",
       "      <th>2</th>\n",
       "      <td>satisfied</td>\n",
       "      <td>Female</td>\n",
       "      <td>Loyal Customer</td>\n",
       "      <td>15</td>\n",
       "      <td>Personal Travel</td>\n",
       "      <td>Eco</td>\n",
       "      <td>2138</td>\n",
       "      <td>0</td>\n",
       "      <td>0</td>\n",
       "      <td>0</td>\n",
       "      <td>...</td>\n",
       "      <td>2</td>\n",
       "      <td>2</td>\n",
       "      <td>3</td>\n",
       "      <td>3</td>\n",
       "      <td>4</td>\n",
       "      <td>4</td>\n",
       "      <td>4</td>\n",
       "      <td>2</td>\n",
       "      <td>0</td>\n",
       "      <td>0.0</td>\n",
       "    </tr>\n",
       "    <tr>\n",
       "      <th>3</th>\n",
       "      <td>satisfied</td>\n",
       "      <td>Female</td>\n",
       "      <td>Loyal Customer</td>\n",
       "      <td>60</td>\n",
       "      <td>Personal Travel</td>\n",
       "      <td>Eco</td>\n",
       "      <td>623</td>\n",
       "      <td>0</td>\n",
       "      <td>0</td>\n",
       "      <td>0</td>\n",
       "      <td>...</td>\n",
       "      <td>3</td>\n",
       "      <td>1</td>\n",
       "      <td>1</td>\n",
       "      <td>0</td>\n",
       "      <td>1</td>\n",
       "      <td>4</td>\n",
       "      <td>1</td>\n",
       "      <td>3</td>\n",
       "      <td>0</td>\n",
       "      <td>0.0</td>\n",
       "    </tr>\n",
       "    <tr>\n",
       "      <th>4</th>\n",
       "      <td>satisfied</td>\n",
       "      <td>Female</td>\n",
       "      <td>Loyal Customer</td>\n",
       "      <td>70</td>\n",
       "      <td>Personal Travel</td>\n",
       "      <td>Eco</td>\n",
       "      <td>354</td>\n",
       "      <td>0</td>\n",
       "      <td>0</td>\n",
       "      <td>0</td>\n",
       "      <td>...</td>\n",
       "      <td>4</td>\n",
       "      <td>2</td>\n",
       "      <td>2</td>\n",
       "      <td>0</td>\n",
       "      <td>2</td>\n",
       "      <td>4</td>\n",
       "      <td>2</td>\n",
       "      <td>5</td>\n",
       "      <td>0</td>\n",
       "      <td>0.0</td>\n",
       "    </tr>\n",
       "  </tbody>\n",
       "</table>\n",
       "<p>5 rows × 23 columns</p>\n",
       "</div>"
      ],
      "text/plain": [
       "  satisfaction  Gender   Customer Type  Age   Type of Travel     Class  \\\n",
       "0    satisfied  Female  Loyal Customer   65  Personal Travel       Eco   \n",
       "1    satisfied    Male  Loyal Customer   47  Personal Travel  Business   \n",
       "2    satisfied  Female  Loyal Customer   15  Personal Travel       Eco   \n",
       "3    satisfied  Female  Loyal Customer   60  Personal Travel       Eco   \n",
       "4    satisfied  Female  Loyal Customer   70  Personal Travel       Eco   \n",
       "\n",
       "   Flight Distance  Seat comfort  Departure/Arrival time convenient  \\\n",
       "0              265             0                                  0   \n",
       "1             2464             0                                  0   \n",
       "2             2138             0                                  0   \n",
       "3              623             0                                  0   \n",
       "4              354             0                                  0   \n",
       "\n",
       "   Food and drink  ...  Online support  Ease of Online booking  \\\n",
       "0               0  ...               2                       3   \n",
       "1               0  ...               2                       3   \n",
       "2               0  ...               2                       2   \n",
       "3               0  ...               3                       1   \n",
       "4               0  ...               4                       2   \n",
       "\n",
       "   On-board service  Leg room service  Baggage handling  Checkin service  \\\n",
       "0                 3                 0                 3                5   \n",
       "1                 4                 4                 4                2   \n",
       "2                 3                 3                 4                4   \n",
       "3                 1                 0                 1                4   \n",
       "4                 2                 0                 2                4   \n",
       "\n",
       "   Cleanliness  Online boarding  Departure Delay in Minutes  \\\n",
       "0            3                2                           0   \n",
       "1            3                2                         310   \n",
       "2            4                2                           0   \n",
       "3            1                3                           0   \n",
       "4            2                5                           0   \n",
       "\n",
       "   Arrival Delay in Minutes  \n",
       "0                       0.0  \n",
       "1                     305.0  \n",
       "2                       0.0  \n",
       "3                       0.0  \n",
       "4                       0.0  \n",
       "\n",
       "[5 rows x 23 columns]"
      ]
     },
     "execution_count": 174,
     "metadata": {},
     "output_type": "execute_result"
    }
   ],
   "source": [
    "data.head()"
   ]
  },
  {
   "cell_type": "code",
   "execution_count": 175,
   "metadata": {},
   "outputs": [
    {
     "name": "stdout",
     "output_type": "stream",
     "text": [
      "<class 'pandas.core.frame.DataFrame'>\n",
      "RangeIndex: 129880 entries, 0 to 129879\n",
      "Data columns (total 23 columns):\n",
      " #   Column                             Non-Null Count   Dtype  \n",
      "---  ------                             --------------   -----  \n",
      " 0   satisfaction                       129880 non-null  object \n",
      " 1   Gender                             129880 non-null  object \n",
      " 2   Customer Type                      129880 non-null  object \n",
      " 3   Age                                129880 non-null  int64  \n",
      " 4   Type of Travel                     129880 non-null  object \n",
      " 5   Class                              129880 non-null  object \n",
      " 6   Flight Distance                    129880 non-null  int64  \n",
      " 7   Seat comfort                       129880 non-null  int64  \n",
      " 8   Departure/Arrival time convenient  129880 non-null  int64  \n",
      " 9   Food and drink                     129880 non-null  int64  \n",
      " 10  Gate location                      129880 non-null  int64  \n",
      " 11  Inflight wifi service              129880 non-null  int64  \n",
      " 12  Inflight entertainment             129880 non-null  int64  \n",
      " 13  Online support                     129880 non-null  int64  \n",
      " 14  Ease of Online booking             129880 non-null  int64  \n",
      " 15  On-board service                   129880 non-null  int64  \n",
      " 16  Leg room service                   129880 non-null  int64  \n",
      " 17  Baggage handling                   129880 non-null  int64  \n",
      " 18  Checkin service                    129880 non-null  int64  \n",
      " 19  Cleanliness                        129880 non-null  int64  \n",
      " 20  Online boarding                    129880 non-null  int64  \n",
      " 21  Departure Delay in Minutes         129880 non-null  int64  \n",
      " 22  Arrival Delay in Minutes           129487 non-null  float64\n",
      "dtypes: float64(1), int64(17), object(5)\n",
      "memory usage: 22.8+ MB\n"
     ]
    }
   ],
   "source": [
    "data.info()"
   ]
  },
  {
   "cell_type": "code",
   "execution_count": 176,
   "metadata": {},
   "outputs": [],
   "source": [
    "df = data.dropna(subset=['Arrival Delay in Minutes'])"
   ]
  },
  {
   "cell_type": "code",
   "execution_count": 177,
   "metadata": {},
   "outputs": [
    {
     "name": "stdout",
     "output_type": "stream",
     "text": [
      "<class 'pandas.core.frame.DataFrame'>\n",
      "Int64Index: 129487 entries, 0 to 129879\n",
      "Data columns (total 23 columns):\n",
      " #   Column                             Non-Null Count   Dtype  \n",
      "---  ------                             --------------   -----  \n",
      " 0   satisfaction                       129487 non-null  object \n",
      " 1   Gender                             129487 non-null  object \n",
      " 2   Customer Type                      129487 non-null  object \n",
      " 3   Age                                129487 non-null  int64  \n",
      " 4   Type of Travel                     129487 non-null  object \n",
      " 5   Class                              129487 non-null  object \n",
      " 6   Flight Distance                    129487 non-null  int64  \n",
      " 7   Seat comfort                       129487 non-null  int64  \n",
      " 8   Departure/Arrival time convenient  129487 non-null  int64  \n",
      " 9   Food and drink                     129487 non-null  int64  \n",
      " 10  Gate location                      129487 non-null  int64  \n",
      " 11  Inflight wifi service              129487 non-null  int64  \n",
      " 12  Inflight entertainment             129487 non-null  int64  \n",
      " 13  Online support                     129487 non-null  int64  \n",
      " 14  Ease of Online booking             129487 non-null  int64  \n",
      " 15  On-board service                   129487 non-null  int64  \n",
      " 16  Leg room service                   129487 non-null  int64  \n",
      " 17  Baggage handling                   129487 non-null  int64  \n",
      " 18  Checkin service                    129487 non-null  int64  \n",
      " 19  Cleanliness                        129487 non-null  int64  \n",
      " 20  Online boarding                    129487 non-null  int64  \n",
      " 21  Departure Delay in Minutes         129487 non-null  int64  \n",
      " 22  Arrival Delay in Minutes           129487 non-null  float64\n",
      "dtypes: float64(1), int64(17), object(5)\n",
      "memory usage: 23.7+ MB\n"
     ]
    }
   ],
   "source": [
    "df.info()"
   ]
  },
  {
   "cell_type": "code",
   "execution_count": 178,
   "metadata": {},
   "outputs": [
    {
     "data": {
      "text/plain": [
       "count             129487\n",
       "unique                 2\n",
       "top       Loyal Customer\n",
       "freq              105773\n",
       "Name: Customer Type, dtype: object"
      ]
     },
     "execution_count": 178,
     "metadata": {},
     "output_type": "execute_result"
    }
   ],
   "source": [
    "df['Customer Type'].describe()"
   ]
  },
  {
   "cell_type": "code",
   "execution_count": 179,
   "metadata": {},
   "outputs": [
    {
     "data": {
      "text/plain": [
       "Loyal Customer       105773\n",
       "disloyal Customer     23714\n",
       "Name: Customer Type, dtype: int64"
      ]
     },
     "execution_count": 179,
     "metadata": {},
     "output_type": "execute_result"
    }
   ],
   "source": [
    "df['Customer Type'].value_counts()"
   ]
  },
  {
   "cell_type": "code",
   "execution_count": 180,
   "metadata": {},
   "outputs": [
    {
     "data": {
      "text/plain": [
       "Female    65703\n",
       "Male      63784\n",
       "Name: Gender, dtype: int64"
      ]
     },
     "execution_count": 180,
     "metadata": {},
     "output_type": "execute_result"
    }
   ],
   "source": [
    "df.Gender.value_counts()"
   ]
  },
  {
   "cell_type": "code",
   "execution_count": 181,
   "metadata": {},
   "outputs": [
    {
     "data": {
      "text/plain": [
       "Index(['satisfaction', 'Gender', 'Customer Type', 'Age', 'Type of Travel',\n",
       "       'Class', 'Flight Distance', 'Seat comfort',\n",
       "       'Departure/Arrival time convenient', 'Food and drink', 'Gate location',\n",
       "       'Inflight wifi service', 'Inflight entertainment', 'Online support',\n",
       "       'Ease of Online booking', 'On-board service', 'Leg room service',\n",
       "       'Baggage handling', 'Checkin service', 'Cleanliness', 'Online boarding',\n",
       "       'Departure Delay in Minutes', 'Arrival Delay in Minutes'],\n",
       "      dtype='object')"
      ]
     },
     "execution_count": 181,
     "metadata": {},
     "output_type": "execute_result"
    }
   ],
   "source": [
    "data.keys()"
   ]
  },
  {
   "cell_type": "code",
   "execution_count": 182,
   "metadata": {},
   "outputs": [
    {
     "name": "stderr",
     "output_type": "stream",
     "text": [
      "C:\\Users\\Jordi\\anaconda3\\lib\\site-packages\\pandas\\core\\generic.py:5303: SettingWithCopyWarning: \n",
      "A value is trying to be set on a copy of a slice from a DataFrame.\n",
      "Try using .loc[row_indexer,col_indexer] = value instead\n",
      "\n",
      "See the caveats in the documentation: https://pandas.pydata.org/pandas-docs/stable/user_guide/indexing.html#returning-a-view-versus-a-copy\n",
      "  self[name] = value\n"
     ]
    }
   ],
   "source": [
    "df.satisfaction = df.satisfaction.map({\n",
    "                               'dissatisfied':0,\n",
    "                               'satisfied':1\n",
    "                               })"
   ]
  },
  {
   "cell_type": "code",
   "execution_count": 183,
   "metadata": {},
   "outputs": [
    {
     "data": {
      "text/plain": [
       "1    70882\n",
       "0    58605\n",
       "Name: satisfaction, dtype: int64"
      ]
     },
     "execution_count": 183,
     "metadata": {},
     "output_type": "execute_result"
    }
   ],
   "source": [
    "df.satisfaction.value_counts()"
   ]
  },
  {
   "cell_type": "code",
   "execution_count": 184,
   "metadata": {},
   "outputs": [],
   "source": [
    "df.Gender = df.Gender.map({\n",
    "                           'Female':0,\n",
    "                           'Male':1\n",
    "                          })"
   ]
  },
  {
   "cell_type": "code",
   "execution_count": 185,
   "metadata": {},
   "outputs": [
    {
     "data": {
      "text/plain": [
       "0    65703\n",
       "1    63784\n",
       "Name: Gender, dtype: int64"
      ]
     },
     "execution_count": 185,
     "metadata": {},
     "output_type": "execute_result"
    }
   ],
   "source": [
    "df.Gender.value_counts()"
   ]
  },
  {
   "cell_type": "code",
   "execution_count": 186,
   "metadata": {},
   "outputs": [
    {
     "name": "stderr",
     "output_type": "stream",
     "text": [
      "<ipython-input-186-f8b87793da59>:1: SettingWithCopyWarning: \n",
      "A value is trying to be set on a copy of a slice from a DataFrame.\n",
      "Try using .loc[row_indexer,col_indexer] = value instead\n",
      "\n",
      "See the caveats in the documentation: https://pandas.pydata.org/pandas-docs/stable/user_guide/indexing.html#returning-a-view-versus-a-copy\n",
      "  df['Customer Type'] = df['Customer Type'].map({\n"
     ]
    }
   ],
   "source": [
    "df['Customer Type'] = df['Customer Type'].map({\n",
    "                          'disloyal Customer':0,\n",
    "                          'Loyal Customer':1\n",
    "                         })"
   ]
  },
  {
   "cell_type": "code",
   "execution_count": 187,
   "metadata": {},
   "outputs": [],
   "source": [
    "df.Class = df.Class.map({\n",
    "                                                   'Eco':0,\n",
    "                                                   'Business':1,\n",
    "                                                   'Eco Plus':2\n",
    "                                                  })"
   ]
  },
  {
   "cell_type": "code",
   "execution_count": 188,
   "metadata": {},
   "outputs": [
    {
     "data": {
      "text/plain": [
       "Business travel    89445\n",
       "Personal Travel    40042\n",
       "Name: Type of Travel, dtype: int64"
      ]
     },
     "execution_count": 188,
     "metadata": {},
     "output_type": "execute_result"
    }
   ],
   "source": [
    "df['Type of Travel'].value_counts()"
   ]
  },
  {
   "cell_type": "code",
   "execution_count": 189,
   "metadata": {},
   "outputs": [
    {
     "name": "stderr",
     "output_type": "stream",
     "text": [
      "<ipython-input-189-3fa6cd1538fa>:1: SettingWithCopyWarning: \n",
      "A value is trying to be set on a copy of a slice from a DataFrame.\n",
      "Try using .loc[row_indexer,col_indexer] = value instead\n",
      "\n",
      "See the caveats in the documentation: https://pandas.pydata.org/pandas-docs/stable/user_guide/indexing.html#returning-a-view-versus-a-copy\n",
      "  df['Type of Travel'] = df['Type of Travel'].map({\n"
     ]
    }
   ],
   "source": [
    "df['Type of Travel'] = df['Type of Travel'].map({\n",
    "                                                 'Personal Travel':0,\n",
    "                                                 'Business travel':1\n",
    "                                                  })"
   ]
  },
  {
   "cell_type": "code",
   "execution_count": 192,
   "metadata": {},
   "outputs": [
    {
     "name": "stdout",
     "output_type": "stream",
     "text": [
      "<class 'pandas.core.frame.DataFrame'>\n",
      "Int64Index: 129487 entries, 0 to 129879\n",
      "Data columns (total 23 columns):\n",
      " #   Column                             Non-Null Count   Dtype  \n",
      "---  ------                             --------------   -----  \n",
      " 0   satisfaction                       129487 non-null  int64  \n",
      " 1   Gender                             129487 non-null  int64  \n",
      " 2   Customer Type                      129487 non-null  int64  \n",
      " 3   Age                                129487 non-null  int64  \n",
      " 4   Type of Travel                     129487 non-null  int64  \n",
      " 5   Class                              129487 non-null  int64  \n",
      " 6   Flight Distance                    129487 non-null  int64  \n",
      " 7   Seat comfort                       129487 non-null  int64  \n",
      " 8   Departure/Arrival time convenient  129487 non-null  int64  \n",
      " 9   Food and drink                     129487 non-null  int64  \n",
      " 10  Gate location                      129487 non-null  int64  \n",
      " 11  Inflight wifi service              129487 non-null  int64  \n",
      " 12  Inflight entertainment             129487 non-null  int64  \n",
      " 13  Online support                     129487 non-null  int64  \n",
      " 14  Ease of Online booking             129487 non-null  int64  \n",
      " 15  On-board service                   129487 non-null  int64  \n",
      " 16  Leg room service                   129487 non-null  int64  \n",
      " 17  Baggage handling                   129487 non-null  int64  \n",
      " 18  Checkin service                    129487 non-null  int64  \n",
      " 19  Cleanliness                        129487 non-null  int64  \n",
      " 20  Online boarding                    129487 non-null  int64  \n",
      " 21  Departure Delay in Minutes         129487 non-null  int64  \n",
      " 22  Arrival Delay in Minutes           129487 non-null  float64\n",
      "dtypes: float64(1), int64(22)\n",
      "memory usage: 23.7 MB\n"
     ]
    }
   ],
   "source": [
    "df.info()"
   ]
  },
  {
   "cell_type": "code",
   "execution_count": 18,
   "metadata": {},
   "outputs": [],
   "source": [
    "from sklearn.preprocessing import StandardScaler\n",
    "sc = StandardScaler()"
   ]
  },
  {
   "cell_type": "code",
   "execution_count": 19,
   "metadata": {},
   "outputs": [
    {
     "data": {
      "text/plain": [
       "array([[ 0.90928359, -0.98528819,  0.47349456, ..., -1.04152574,\n",
       "        -0.38603572, -0.39232892],\n",
       "       [ 0.90928359,  1.01493148,  0.47349456, ..., -1.04152574,\n",
       "         7.78632838,  7.53685402],\n",
       "       [ 0.90928359, -0.98528819,  0.47349456, ..., -1.04152574,\n",
       "        -0.38603572, -0.39232892],\n",
       "       ...,\n",
       "       [-1.0997669 ,  1.01493148, -2.11195667, ..., -1.04152574,\n",
       "         3.70014633,  3.84523442],\n",
       "       [-1.0997669 ,  1.01493148, -2.11195667, ..., -1.04152574,\n",
       "         4.70191999,  4.93712191],\n",
       "       [-1.0997669 , -0.98528819, -2.11195667, ..., -0.2714769 ,\n",
       "         4.49102028,  4.44317281]])"
      ]
     },
     "execution_count": 19,
     "metadata": {},
     "output_type": "execute_result"
    }
   ],
   "source": [
    "sc.fit(df)\n",
    "sc.transform(df)"
   ]
  },
  {
   "cell_type": "code",
   "execution_count": 20,
   "metadata": {},
   "outputs": [],
   "source": [
    "df_sc = pd.DataFrame(sc.fit_transform(df), columns=df.columns)\n"
   ]
  },
  {
   "cell_type": "code",
   "execution_count": 193,
   "metadata": {},
   "outputs": [
    {
     "data": {
      "image/png": "[encoded data removed]",
      "text/plain": [
       "<Figure size 1440x1080 with 25 Axes>"
      ]
     },
     "metadata": {
      "needs_background": "light"
     },
     "output_type": "display_data"
    }
   ],
   "source": [
    "%matplotlib inline\n",
    "import matplotlib.pyplot as plt\n",
    "df.hist(bins=50, figsize=(20,15))\n",
    "plt.show()"
   ]
  },
  {
   "cell_type": "code",
   "execution_count": 194,
   "metadata": {},
   "outputs": [
    {
     "data": {
      "text/plain": [
       "<matplotlib.axes._subplots.AxesSubplot at 0x2ce646894f0>"
      ]
     },
     "execution_count": 194,
     "metadata": {},
     "output_type": "execute_result"
    },
    {
     "data": {
      "image/png": "[encoded data removed]",
      "text/plain": [
       "<Figure size 432x288 with 1 Axes>"
      ]
     },
     "metadata": {
      "needs_background": "light"
     },
     "output_type": "display_data"
    }
   ],
   "source": [
    "import seaborn as sn\n",
    "sn.boxplot(df['Arrival Delay in Minutes'])"
   ]
  },
  {
   "cell_type": "code",
   "execution_count": 195,
   "metadata": {},
   "outputs": [
    {
     "name": "stdout",
     "output_type": "stream",
     "text": [
      "satisfaction                             0\n",
      "Gender                                   0\n",
      "Customer Type                        23714\n",
      "Age                                      0\n",
      "Type of Travel                           0\n",
      "Class                                    0\n",
      "Flight Distance                       2575\n",
      "Seat comfort                             0\n",
      "Departure/Arrival time convenient        0\n",
      "Food and drink                           0\n",
      "Gate location                            0\n",
      "Inflight wifi service                    0\n",
      "Inflight entertainment                   0\n",
      "Online support                           0\n",
      "Ease of Online booking                   0\n",
      "On-board service                     13228\n",
      "Leg room service                         0\n",
      "Baggage handling                         0\n",
      "Checkin service                      15323\n",
      "Cleanliness                              0\n",
      "Online boarding                          0\n",
      "Departure Delay in Minutes           17970\n",
      "Arrival Delay in Minutes             17492\n",
      "dtype: int64\n"
     ]
    }
   ],
   "source": [
    "#Checking\n",
    "Q1 = df.quantile(0.25)\n",
    "Q3 = df.quantile(0.75)\n",
    "IQR = Q3 - Q1\n",
    "print(((df<(Q1-1.5*IQR))|(df>(Q3+1.5*IQR))).sum())"
   ]
  },
  {
   "cell_type": "code",
   "execution_count": 196,
   "metadata": {},
   "outputs": [
    {
     "name": "stdout",
     "output_type": "stream",
     "text": [
      "Q1 of Customer Type =  1.0\n",
      "Q3 of Customer Type =  1.0\n",
      "IQR of Customer Type =  0.0\n",
      "Lower_Whisker_Customer Type =  1.0\n",
      "Upper_Whisker_Customer Type =  1.0\n"
     ]
    }
   ],
   "source": [
    "#Looking for outliers from 'Customer Type'\n",
    "Q1 = df['Customer Type'].quantile(0.25)\n",
    "Q3 = df['Customer Type'].quantile(0.75)\n",
    "IQR = Q3-Q1\n",
    "print('Q1 of Customer Type = ',Q1)\n",
    "print('Q3 of Customer Type = ',Q3)\n",
    "print('IQR of Customer Type = ',IQR)\n",
    "Lower_Whisker_Customer_Type = Q1 - 1.5 * IQR\n",
    "Upper_Whisker_Customer_Type = Q3 + 1.5 * IQR\n",
    "print('Lower_Whisker_Customer Type = ', Lower_Whisker_Customer_Type)\n",
    "print('Upper_Whisker_Customer Type = ',Upper_Whisker_Customer_Type)\n"
   ]
  },
  {
   "cell_type": "code",
   "execution_count": 197,
   "metadata": {},
   "outputs": [],
   "source": [
    "#Removing any outliers from 'Customer Type'\n",
    "dfr = df[(df['Customer Type']<(Q3+1.5*IQR)) & (df['Customer Type']<(Q3+1.5*IQR))]\n",
    "#df_sc = df_sc[df_sc['Customer Type']<(Q3+1.5*IQR)]\n",
    "#df_sc = df_sc[df_sc['Customer Type']>(Q1-1.5*IQR)]"
   ]
  },
  {
   "cell_type": "code",
   "execution_count": 198,
   "metadata": {},
   "outputs": [
    {
     "name": "stdout",
     "output_type": "stream",
     "text": [
      "Q1 of Flight Distance =  1359.0\n",
      "Q3 of Flight Distance =  2543.0\n",
      "IQR of Flight Distance =  1184.0\n",
      "Lower_Whisker_Flight Distance =  -417.0\n",
      "Upper_Whisker_Flight Distance =  4319.0\n"
     ]
    }
   ],
   "source": [
    "#Looking for outliers from 'Flight Distance'\n",
    "Q1 = df['Flight Distance'].quantile(0.25)\n",
    "Q3 = df['Flight Distance'].quantile(0.75)\n",
    "IQR = Q3-Q1\n",
    "print('Q1 of Flight Distance = ',Q1)\n",
    "print('Q3 of Flight Distance = ',Q3)\n",
    "print('IQR of Flight Distance = ',IQR)\n",
    "Lower_Whisker_Flight_Distance = Q1 - 1.5 * IQR\n",
    "Upper_Whisker_Flight_Distance = Q3 + 1.5 * IQR\n",
    "print('Lower_Whisker_Flight Distance = ', Lower_Whisker_Flight_Distance)\n",
    "print('Upper_Whisker_Flight Distance = ',Upper_Whisker_Flight_Distance)\n"
   ]
  },
  {
   "cell_type": "code",
   "execution_count": 199,
   "metadata": {},
   "outputs": [],
   "source": [
    "#Removing any outliers from 'Flight Distance'\n",
    "dfr = df[(df['Flight Distance']<(Q3+1.5*IQR)) & (df['Flight Distance']<(Q3+1.5*IQR))]\n"
   ]
  },
  {
   "cell_type": "code",
   "execution_count": 200,
   "metadata": {},
   "outputs": [
    {
     "name": "stdout",
     "output_type": "stream",
     "text": [
      "Q1 of On-board service =  3.0\n",
      "Q3 of On-board service =  4.0\n",
      "IQR of On-board service =  1.0\n",
      "Lower_Whisker_On-board service =  1.5\n",
      "Upper_Whisker_On-board service =  5.5\n"
     ]
    }
   ],
   "source": [
    "#Looking for outliers from 'On-board service'\n",
    "Q1 = df['On-board service'].quantile(0.25)\n",
    "Q3 = df['On-board service'].quantile(0.75)\n",
    "IQR = Q3-Q1\n",
    "print('Q1 of On-board service = ',Q1)\n",
    "print('Q3 of On-board service = ',Q3)\n",
    "print('IQR of On-board service = ',IQR)\n",
    "Lower_Whisker_On_board_service = Q1 - 1.5 * IQR\n",
    "Upper_Whisker_On_board_service = Q3 + 1.5 * IQR\n",
    "print('Lower_Whisker_On-board service = ', Lower_Whisker_On_board_service)\n",
    "print('Upper_Whisker_On-board service = ',Upper_Whisker_On_board_service)\n"
   ]
  },
  {
   "cell_type": "code",
   "execution_count": 201,
   "metadata": {},
   "outputs": [],
   "source": [
    "#Removing any outliers from 'On-board service'\n",
    "dfr = df[(df['On-board service']<(Q3+1.5*IQR)) & (df['On-board service']<(Q3+1.5*IQR))]\n"
   ]
  },
  {
   "cell_type": "code",
   "execution_count": 202,
   "metadata": {},
   "outputs": [
    {
     "name": "stdout",
     "output_type": "stream",
     "text": [
      "Q1 of Checkin service =  3.0\n",
      "Q3 of Checkin service =  4.0\n",
      "IQR of Checkin service =  1.0\n",
      "Lower_Whisker_Checkin service =  1.5\n",
      "Upper_Whisker_Checkin service =  5.5\n"
     ]
    }
   ],
   "source": [
    "#Looking for outliers from 'Checkin service'\n",
    "Q1 = df['Checkin service'].quantile(0.25)\n",
    "Q3 = df['Checkin service'].quantile(0.75)\n",
    "IQR = Q3-Q1\n",
    "print('Q1 of Checkin service = ',Q1)\n",
    "print('Q3 of Checkin service = ',Q3)\n",
    "print('IQR of Checkin service = ',IQR)\n",
    "Lower_Whisker_Checkin_service = Q1 - 1.5 * IQR\n",
    "Upper_Whisker_Checkin_service = Q3 + 1.5 * IQR\n",
    "print('Lower_Whisker_Checkin service = ', Lower_Whisker_Checkin_service)\n",
    "print('Upper_Whisker_Checkin service = ',Upper_Whisker_Checkin_service)\n"
   ]
  },
  {
   "cell_type": "code",
   "execution_count": 203,
   "metadata": {},
   "outputs": [],
   "source": [
    "#Removing any outliers from 'Checkin service'\n",
    "df = df[(df['Checkin service']<(Q3+1.5*IQR)) & (df['Checkin service']<(Q3+1.5*IQR))]\n"
   ]
  },
  {
   "cell_type": "code",
   "execution_count": 207,
   "metadata": {},
   "outputs": [
    {
     "name": "stdout",
     "output_type": "stream",
     "text": [
      "Q1 of Departure Delay in Minutes =  0.0\n",
      "Q3 of Departure Delay in Minutes =  4.0\n",
      "IQR of Departure Delay in Minutes =  4.0\n",
      "Lower_Whisker_Departure Delay in Minutes =  -6.0\n",
      "Upper_Whisker_Departure Delay in Minutes =  10.0\n"
     ]
    }
   ],
   "source": [
    "#Looking for outliers from 'Departure Delay in Minutes'\n",
    "Q1 = df['Departure Delay in Minutes'].quantile(0.25)\n",
    "Q3 = df['Departure Delay in Minutes'].quantile(0.75)\n",
    "IQR = Q3-Q1\n",
    "print('Q1 of Departure Delay in Minutes = ',Q1)\n",
    "print('Q3 of Departure Delay in Minutes = ',Q3)\n",
    "print('IQR of Departure Delay in Minutes = ',IQR)\n",
    "Lower_Whisker_Departure_Delay_in_Minutes = Q1 - 1.5 * IQR\n",
    "Upper_Whisker_Departure_Delay_in_Minutes = Q3 + 1.5 * IQR\n",
    "print('Lower_Whisker_Departure Delay in Minutes = ', Lower_Whisker_Departure_Delay_in_Minutes)\n",
    "print('Upper_Whisker_Departure Delay in Minutes = ',Upper_Whisker_Departure_Delay_in_Minutes)\n"
   ]
  },
  {
   "cell_type": "code",
   "execution_count": 209,
   "metadata": {},
   "outputs": [],
   "source": [
    "#Removing any outliers from 'Departure Delay in Minutes'\n",
    "dfr = df[(df['Departure Delay in Minutes']<(Q3+1.5*IQR)) & (df['Departure Delay in Minutes']<(Q3+1.5*IQR))]\n"
   ]
  },
  {
   "cell_type": "code",
   "execution_count": 210,
   "metadata": {},
   "outputs": [
    {
     "name": "stdout",
     "output_type": "stream",
     "text": [
      "Q1 of Arrival Delay in Minutes =  0.0\n",
      "Q3 of Arrival Delay in Minutes =  5.0\n",
      "IQR of Arrival Delay in Minutes =  5.0\n",
      "Lower_Whisker_Arrival Delay in Minutes =  -7.5\n",
      "Upper_Whisker_Arrival Delay in Minutes =  12.5\n"
     ]
    }
   ],
   "source": [
    "#Looking for outliers from 'Arrival Delay in Minutes'\n",
    "Q1 = df['Arrival Delay in Minutes'].quantile(0.25)\n",
    "Q3 = df['Arrival Delay in Minutes'].quantile(0.75)\n",
    "IQR = Q3-Q1\n",
    "print('Q1 of Arrival Delay in Minutes = ',Q1)\n",
    "print('Q3 of Arrival Delay in Minutes = ',Q3)\n",
    "print('IQR of Arrival Delay in Minutes = ',IQR)\n",
    "Lower_Whisker_Arrival_Delay_in_Minutes = Q1 - 1.5 * IQR\n",
    "Upper_Whisker_Arrival_Delay_in_Minutes = Q3 + 1.5 * IQR\n",
    "print('Lower_Whisker_Arrival Delay in Minutes = ', Lower_Whisker_Arrival_Delay_in_Minutes)\n",
    "print('Upper_Whisker_Arrival Delay in Minutes = ',Upper_Whisker_Arrival_Delay_in_Minutes)\n"
   ]
  },
  {
   "cell_type": "code",
   "execution_count": 212,
   "metadata": {},
   "outputs": [],
   "source": [
    "#Removing any outliers from 'Arrival Delay in Minutes'\n",
    "dfr = df[(df['Arrival Delay in Minutes']<(Q3+1.5*IQR)) & (df['Arrival Delay in Minutes']<(Q3+1.5*IQR))]\n"
   ]
  },
  {
   "cell_type": "code",
   "execution_count": 213,
   "metadata": {},
   "outputs": [
    {
     "data": {
      "text/plain": [
       "(95731, 23)"
      ]
     },
     "execution_count": 213,
     "metadata": {},
     "output_type": "execute_result"
    }
   ],
   "source": [
    "dfr.shape"
   ]
  },
  {
   "cell_type": "code",
   "execution_count": 214,
   "metadata": {},
   "outputs": [
    {
     "data": {
      "text/plain": [
       "<matplotlib.axes._subplots.AxesSubplot at 0x2ce650e6be0>"
      ]
     },
     "execution_count": 214,
     "metadata": {},
     "output_type": "execute_result"
    },
    {
     "data": {
      "image/png": "[encoded data removed]",
      "text/plain": [
       "<Figure size 432x288 with 1 Axes>"
      ]
     },
     "metadata": {
      "needs_background": "light"
     },
     "output_type": "display_data"
    }
   ],
   "source": [
    "sn.boxplot(dfr['Arrival Delay in Minutes'])"
   ]
  },
  {
   "cell_type": "code",
   "execution_count": 215,
   "metadata": {},
   "outputs": [],
   "source": [
    "from sklearn.cluster import KMeans\n",
    "import numpy as np\n",
    "#X = np.array(df_sc)\n",
    "X = dfr"
   ]
  },
  {
   "cell_type": "code",
   "execution_count": 216,
   "metadata": {},
   "outputs": [],
   "source": [
    "kmeans = KMeans(n_clusters=8, init='k-means++', n_init=10, max_iter=300, tol=0.0001, \n",
    "                precompute_distances='deprecated', random_state=None, copy_x=True, algorithm='auto')"
   ]
  },
  {
   "cell_type": "code",
   "execution_count": 217,
   "metadata": {},
   "outputs": [
    {
     "data": {
      "image/png": "[encoded data removed]",
      "text/plain": [
       "<Figure size 432x288 with 1 Axes>"
      ]
     },
     "metadata": {
      "needs_background": "light"
     },
     "output_type": "display_data"
    }
   ],
   "source": [
    "wcss = []\n",
    "for i in range(1, 11):\n",
    "    kmeans = KMeans(n_clusters = i, init = 'k-means++', random_state = 42)\n",
    "    kmeans.fit(X)\n",
    "    wcss.append(kmeans.inertia_)\n",
    "plt.plot(range(1, 11), wcss)\n",
    "plt.title('The Elbow Method')\n",
    "plt.xlabel('Number of clusters')\n",
    "plt.ylabel('WCSS')\n",
    "plt.show()"
   ]
  },
  {
   "cell_type": "markdown",
   "metadata": {},
   "source": [
    "Optimal k = 3"
   ]
  },
  {
   "cell_type": "code",
   "execution_count": 218,
   "metadata": {},
   "outputs": [
    {
     "data": {
      "image/png": "[encoded data removed]",
      "text/plain": [
       "<Figure size 432x288 with 1 Axes>"
      ]
     },
     "metadata": {
      "needs_background": "light"
     },
     "output_type": "display_data"
    }
   ],
   "source": [
    "kmeans = KMeans(n_clusters=3, init='k-means++', max_iter=300, n_init=10, random_state=0)\n",
    "pred_y = kmeans.fit_predict(X)\n",
    "plt.scatter(X['satisfaction'], X['Arrival Delay in Minutes'])\n",
    "plt.scatter(kmeans.cluster_centers_[:, 0], kmeans.cluster_centers_[:, 1], s=300, c='red')\n",
    "plt.show()"
   ]
  },
  {
   "cell_type": "code",
   "execution_count": 220,
   "metadata": {},
   "outputs": [],
   "source": [
    "# Training the K-Means model on the dataset\n",
    "kmeans = KMeans(n_clusters = 3, init = 'k-means++', random_state = 42)\n",
    "y_kmeans = kmeans.fit_predict(X)"
   ]
  },
  {
   "cell_type": "code",
   "execution_count": null,
   "metadata": {},
   "outputs": [],
   "source": [
    "model = KMeans(n_clusters=3)\n",
    "#run kmeans on the data\n",
    "model.fit(data)\n",
    "#get the cluster assignments\n",
    "cluster_assignments = model.predict(data)"
   ]
  },
  {
   "cell_type": "code",
   "execution_count": 221,
   "metadata": {},
   "outputs": [
    {
     "data": {
      "image/png": "[encoded data removed]",
      "text/plain": [
       "<Figure size 432x288 with 1 Axes>"
      ]
     },
     "metadata": {
      "needs_background": "light"
     },
     "output_type": "display_data"
    }
   ],
   "source": [
    "# Visualising the clusters\n",
    "plt.scatter(X.iloc[y_kmeans == 0, 0], X.iloc[y_kmeans == 0, 1], s = 100, c = 'red', label = 'Cluster 1')\n",
    "plt.scatter(X.iloc[y_kmeans == 1, 0], X.iloc[y_kmeans == 1, 1], s = 100, c = 'blue', label = 'Cluster 2')\n",
    "plt.scatter(X.iloc[y_kmeans == 2, 0], X.iloc[y_kmeans == 2, 1], s = 100, c = 'cyan', label = 'Cluster 2')\n",
    "plt.scatter(kmeans.cluster_centers_[:, 0], kmeans.cluster_centers_[:, 1], s = 300, c = 'yellow', label = 'Centroids')\n",
    "plt.title('Clusters')\n",
    "plt.xlabel('Arrival Delay in Minutes')\n",
    "plt.ylabel('satisfaction')\n",
    "plt.legend()\n",
    "plt.show()"
   ]
  },
  {
   "cell_type": "markdown",
   "metadata": {},
   "source": [
    "The following is the Modelling with a MultiLinear Regression"
   ]
  },
  {
   "cell_type": "code",
   "execution_count": 74,
   "metadata": {},
   "outputs": [],
   "source": [
    "X = df_sc.drop(['satisfaction'],axis=1)\n",
    "y = df_sc.satisfaction"
   ]
  },
  {
   "cell_type": "code",
   "execution_count": 122,
   "metadata": {},
   "outputs": [
    {
     "data": {
      "text/plain": [
       " 0.909284    70882\n",
       "-1.099767    58605\n",
       "Name: satisfaction, dtype: int64"
      ]
     },
     "execution_count": 122,
     "metadata": {},
     "output_type": "execute_result"
    }
   ],
   "source": [
    "y.value_counts()"
   ]
  },
  {
   "cell_type": "code",
   "execution_count": 53,
   "metadata": {},
   "outputs": [
    {
     "data": {
      "text/html": [
       "<div>\n",
       "<style scoped>\n",
       "    .dataframe tbody tr th:only-of-type {\n",
       "        vertical-align: middle;\n",
       "    }\n",
       "\n",
       "    .dataframe tbody tr th {\n",
       "        vertical-align: top;\n",
       "    }\n",
       "\n",
       "    .dataframe thead th {\n",
       "        text-align: right;\n",
       "    }\n",
       "</style>\n",
       "<table border=\"1\" class=\"dataframe\">\n",
       "  <thead>\n",
       "    <tr style=\"text-align: right;\">\n",
       "      <th></th>\n",
       "      <th>Gender</th>\n",
       "      <th>Customer Type</th>\n",
       "      <th>Age</th>\n",
       "      <th>Type of Travel</th>\n",
       "      <th>Class</th>\n",
       "      <th>Flight Distance</th>\n",
       "      <th>Seat comfort</th>\n",
       "      <th>Departure/Arrival time convenient</th>\n",
       "      <th>Food and drink</th>\n",
       "      <th>Gate location</th>\n",
       "      <th>...</th>\n",
       "      <th>Online support</th>\n",
       "      <th>Ease of Online booking</th>\n",
       "      <th>On-board service</th>\n",
       "      <th>Leg room service</th>\n",
       "      <th>Baggage handling</th>\n",
       "      <th>Checkin service</th>\n",
       "      <th>Cleanliness</th>\n",
       "      <th>Online boarding</th>\n",
       "      <th>Departure Delay in Minutes</th>\n",
       "      <th>Arrival Delay in Minutes</th>\n",
       "    </tr>\n",
       "  </thead>\n",
       "  <tbody>\n",
       "    <tr>\n",
       "      <th>0</th>\n",
       "      <td>-0.985288</td>\n",
       "      <td>0.473495</td>\n",
       "      <td>1.691495</td>\n",
       "      <td>-1.494583</td>\n",
       "      <td>-1.012171</td>\n",
       "      <td>-1.671090</td>\n",
       "      <td>-2.037943</td>\n",
       "      <td>-1.958042</td>\n",
       "      <td>-1.975658</td>\n",
       "      <td>-0.758380</td>\n",
       "      <td>...</td>\n",
       "      <td>-1.163548</td>\n",
       "      <td>-0.361660</td>\n",
       "      <td>-0.366038</td>\n",
       "      <td>-2.698079</td>\n",
       "      <td>-0.601358</td>\n",
       "      <td>1.316301</td>\n",
       "      <td>-0.612919</td>\n",
       "      <td>-1.041526</td>\n",
       "      <td>-0.386036</td>\n",
       "      <td>-0.392329</td>\n",
       "    </tr>\n",
       "    <tr>\n",
       "      <th>1</th>\n",
       "      <td>1.014931</td>\n",
       "      <td>0.473495</td>\n",
       "      <td>0.500825</td>\n",
       "      <td>-1.494583</td>\n",
       "      <td>0.610900</td>\n",
       "      <td>0.470348</td>\n",
       "      <td>-2.037943</td>\n",
       "      <td>-1.958042</td>\n",
       "      <td>-1.975658</td>\n",
       "      <td>0.007368</td>\n",
       "      <td>...</td>\n",
       "      <td>-1.163548</td>\n",
       "      <td>-0.361660</td>\n",
       "      <td>0.420898</td>\n",
       "      <td>0.397718</td>\n",
       "      <td>0.263333</td>\n",
       "      <td>-1.063601</td>\n",
       "      <td>-0.612919</td>\n",
       "      <td>-1.041526</td>\n",
       "      <td>7.786328</td>\n",
       "      <td>7.536854</td>\n",
       "    </tr>\n",
       "    <tr>\n",
       "      <th>2</th>\n",
       "      <td>-0.985288</td>\n",
       "      <td>0.473495</td>\n",
       "      <td>-1.615922</td>\n",
       "      <td>-1.494583</td>\n",
       "      <td>-1.012171</td>\n",
       "      <td>0.152882</td>\n",
       "      <td>-2.037943</td>\n",
       "      <td>-1.958042</td>\n",
       "      <td>-1.975658</td>\n",
       "      <td>0.007368</td>\n",
       "      <td>...</td>\n",
       "      <td>-1.163548</td>\n",
       "      <td>-1.127610</td>\n",
       "      <td>-0.366038</td>\n",
       "      <td>-0.376231</td>\n",
       "      <td>0.263333</td>\n",
       "      <td>0.523000</td>\n",
       "      <td>0.255379</td>\n",
       "      <td>-1.041526</td>\n",
       "      <td>-0.386036</td>\n",
       "      <td>-0.392329</td>\n",
       "    </tr>\n",
       "    <tr>\n",
       "      <th>3</th>\n",
       "      <td>-0.985288</td>\n",
       "      <td>0.473495</td>\n",
       "      <td>1.360753</td>\n",
       "      <td>-1.494583</td>\n",
       "      <td>-1.012171</td>\n",
       "      <td>-1.322461</td>\n",
       "      <td>-2.037943</td>\n",
       "      <td>-1.958042</td>\n",
       "      <td>-1.975658</td>\n",
       "      <td>0.007368</td>\n",
       "      <td>...</td>\n",
       "      <td>-0.398040</td>\n",
       "      <td>-1.893560</td>\n",
       "      <td>-1.939912</td>\n",
       "      <td>-2.698079</td>\n",
       "      <td>-2.330739</td>\n",
       "      <td>0.523000</td>\n",
       "      <td>-2.349514</td>\n",
       "      <td>-0.271477</td>\n",
       "      <td>-0.386036</td>\n",
       "      <td>-0.392329</td>\n",
       "    </tr>\n",
       "    <tr>\n",
       "      <th>4</th>\n",
       "      <td>-0.985288</td>\n",
       "      <td>0.473495</td>\n",
       "      <td>2.022237</td>\n",
       "      <td>-1.494583</td>\n",
       "      <td>-1.012171</td>\n",
       "      <td>-1.584420</td>\n",
       "      <td>-2.037943</td>\n",
       "      <td>-1.958042</td>\n",
       "      <td>-1.975658</td>\n",
       "      <td>0.007368</td>\n",
       "      <td>...</td>\n",
       "      <td>0.367469</td>\n",
       "      <td>-1.127610</td>\n",
       "      <td>-1.152975</td>\n",
       "      <td>-2.698079</td>\n",
       "      <td>-1.466048</td>\n",
       "      <td>0.523000</td>\n",
       "      <td>-1.481216</td>\n",
       "      <td>1.268621</td>\n",
       "      <td>-0.386036</td>\n",
       "      <td>-0.392329</td>\n",
       "    </tr>\n",
       "    <tr>\n",
       "      <th>...</th>\n",
       "      <td>...</td>\n",
       "      <td>...</td>\n",
       "      <td>...</td>\n",
       "      <td>...</td>\n",
       "      <td>...</td>\n",
       "      <td>...</td>\n",
       "      <td>...</td>\n",
       "      <td>...</td>\n",
       "      <td>...</td>\n",
       "      <td>...</td>\n",
       "      <td>...</td>\n",
       "      <td>...</td>\n",
       "      <td>...</td>\n",
       "      <td>...</td>\n",
       "      <td>...</td>\n",
       "      <td>...</td>\n",
       "      <td>...</td>\n",
       "      <td>...</td>\n",
       "      <td>...</td>\n",
       "      <td>...</td>\n",
       "      <td>...</td>\n",
       "    </tr>\n",
       "    <tr>\n",
       "      <th>129482</th>\n",
       "      <td>-0.985288</td>\n",
       "      <td>-2.111957</td>\n",
       "      <td>-0.689845</td>\n",
       "      <td>-1.494583</td>\n",
       "      <td>-1.012171</td>\n",
       "      <td>-0.243465</td>\n",
       "      <td>1.551772</td>\n",
       "      <td>1.315972</td>\n",
       "      <td>1.487949</td>\n",
       "      <td>0.007368</td>\n",
       "      <td>...</td>\n",
       "      <td>-1.163548</td>\n",
       "      <td>-1.127610</td>\n",
       "      <td>-0.366038</td>\n",
       "      <td>-0.376231</td>\n",
       "      <td>0.263333</td>\n",
       "      <td>0.523000</td>\n",
       "      <td>0.255379</td>\n",
       "      <td>-1.041526</td>\n",
       "      <td>-0.386036</td>\n",
       "      <td>-0.392329</td>\n",
       "    </tr>\n",
       "    <tr>\n",
       "      <th>129483</th>\n",
       "      <td>1.014931</td>\n",
       "      <td>-2.111957</td>\n",
       "      <td>1.559198</td>\n",
       "      <td>-1.494583</td>\n",
       "      <td>0.610900</td>\n",
       "      <td>0.103217</td>\n",
       "      <td>-0.602057</td>\n",
       "      <td>0.006367</td>\n",
       "      <td>-0.590215</td>\n",
       "      <td>0.773117</td>\n",
       "      <td>...</td>\n",
       "      <td>-1.929057</td>\n",
       "      <td>-0.361660</td>\n",
       "      <td>-1.152975</td>\n",
       "      <td>-0.376231</td>\n",
       "      <td>-0.601358</td>\n",
       "      <td>-1.856902</td>\n",
       "      <td>-1.481216</td>\n",
       "      <td>-1.811575</td>\n",
       "      <td>4.201033</td>\n",
       "      <td>4.079210</td>\n",
       "    </tr>\n",
       "    <tr>\n",
       "      <th>129484</th>\n",
       "      <td>1.014931</td>\n",
       "      <td>-2.111957</td>\n",
       "      <td>1.956088</td>\n",
       "      <td>-1.494583</td>\n",
       "      <td>-1.012171</td>\n",
       "      <td>0.330117</td>\n",
       "      <td>0.115886</td>\n",
       "      <td>-1.958042</td>\n",
       "      <td>0.102506</td>\n",
       "      <td>0.007368</td>\n",
       "      <td>...</td>\n",
       "      <td>-1.163548</td>\n",
       "      <td>0.404291</td>\n",
       "      <td>0.420898</td>\n",
       "      <td>-0.376231</td>\n",
       "      <td>0.263333</td>\n",
       "      <td>-1.063601</td>\n",
       "      <td>-0.612919</td>\n",
       "      <td>-1.041526</td>\n",
       "      <td>3.700146</td>\n",
       "      <td>3.845234</td>\n",
       "    </tr>\n",
       "    <tr>\n",
       "      <th>129485</th>\n",
       "      <td>1.014931</td>\n",
       "      <td>-2.111957</td>\n",
       "      <td>1.757643</td>\n",
       "      <td>-1.494583</td>\n",
       "      <td>-1.012171</td>\n",
       "      <td>0.456714</td>\n",
       "      <td>0.115886</td>\n",
       "      <td>-0.648436</td>\n",
       "      <td>0.102506</td>\n",
       "      <td>-0.758380</td>\n",
       "      <td>...</td>\n",
       "      <td>-1.163548</td>\n",
       "      <td>-0.361660</td>\n",
       "      <td>-0.366038</td>\n",
       "      <td>-1.150180</td>\n",
       "      <td>-0.601358</td>\n",
       "      <td>-1.063601</td>\n",
       "      <td>-2.349514</td>\n",
       "      <td>-1.041526</td>\n",
       "      <td>4.701920</td>\n",
       "      <td>4.937122</td>\n",
       "    </tr>\n",
       "    <tr>\n",
       "      <th>129486</th>\n",
       "      <td>-0.985288</td>\n",
       "      <td>-2.111957</td>\n",
       "      <td>-0.094510</td>\n",
       "      <td>-1.494583</td>\n",
       "      <td>-1.012171</td>\n",
       "      <td>2.265105</td>\n",
       "      <td>0.115886</td>\n",
       "      <td>0.661169</td>\n",
       "      <td>0.102506</td>\n",
       "      <td>0.007368</td>\n",
       "      <td>...</td>\n",
       "      <td>-0.398040</td>\n",
       "      <td>0.404291</td>\n",
       "      <td>1.207835</td>\n",
       "      <td>1.171668</td>\n",
       "      <td>1.128024</td>\n",
       "      <td>-0.270301</td>\n",
       "      <td>-0.612919</td>\n",
       "      <td>-0.271477</td>\n",
       "      <td>4.491020</td>\n",
       "      <td>4.443173</td>\n",
       "    </tr>\n",
       "  </tbody>\n",
       "</table>\n",
       "<p>129487 rows × 22 columns</p>\n",
       "</div>"
      ],
      "text/plain": [
       "          Gender  Customer Type       Age  Type of Travel     Class  \\\n",
       "0      -0.985288       0.473495  1.691495       -1.494583 -1.012171   \n",
       "1       1.014931       0.473495  0.500825       -1.494583  0.610900   \n",
       "2      -0.985288       0.473495 -1.615922       -1.494583 -1.012171   \n",
       "3      -0.985288       0.473495  1.360753       -1.494583 -1.012171   \n",
       "4      -0.985288       0.473495  2.022237       -1.494583 -1.012171   \n",
       "...          ...            ...       ...             ...       ...   \n",
       "129482 -0.985288      -2.111957 -0.689845       -1.494583 -1.012171   \n",
       "129483  1.014931      -2.111957  1.559198       -1.494583  0.610900   \n",
       "129484  1.014931      -2.111957  1.956088       -1.494583 -1.012171   \n",
       "129485  1.014931      -2.111957  1.757643       -1.494583 -1.012171   \n",
       "129486 -0.985288      -2.111957 -0.094510       -1.494583 -1.012171   \n",
       "\n",
       "        Flight Distance  Seat comfort  Departure/Arrival time convenient  \\\n",
       "0             -1.671090     -2.037943                          -1.958042   \n",
       "1              0.470348     -2.037943                          -1.958042   \n",
       "2              0.152882     -2.037943                          -1.958042   \n",
       "3             -1.322461     -2.037943                          -1.958042   \n",
       "4             -1.584420     -2.037943                          -1.958042   \n",
       "...                 ...           ...                                ...   \n",
       "129482        -0.243465      1.551772                           1.315972   \n",
       "129483         0.103217     -0.602057                           0.006367   \n",
       "129484         0.330117      0.115886                          -1.958042   \n",
       "129485         0.456714      0.115886                          -0.648436   \n",
       "129486         2.265105      0.115886                           0.661169   \n",
       "\n",
       "        Food and drink  Gate location  ...  Online support  \\\n",
       "0            -1.975658      -0.758380  ...       -1.163548   \n",
       "1            -1.975658       0.007368  ...       -1.163548   \n",
       "2            -1.975658       0.007368  ...       -1.163548   \n",
       "3            -1.975658       0.007368  ...       -0.398040   \n",
       "4            -1.975658       0.007368  ...        0.367469   \n",
       "...                ...            ...  ...             ...   \n",
       "129482        1.487949       0.007368  ...       -1.163548   \n",
       "129483       -0.590215       0.773117  ...       -1.929057   \n",
       "129484        0.102506       0.007368  ...       -1.163548   \n",
       "129485        0.102506      -0.758380  ...       -1.163548   \n",
       "129486        0.102506       0.007368  ...       -0.398040   \n",
       "\n",
       "        Ease of Online booking  On-board service  Leg room service  \\\n",
       "0                    -0.361660         -0.366038         -2.698079   \n",
       "1                    -0.361660          0.420898          0.397718   \n",
       "2                    -1.127610         -0.366038         -0.376231   \n",
       "3                    -1.893560         -1.939912         -2.698079   \n",
       "4                    -1.127610         -1.152975         -2.698079   \n",
       "...                        ...               ...               ...   \n",
       "129482               -1.127610         -0.366038         -0.376231   \n",
       "129483               -0.361660         -1.152975         -0.376231   \n",
       "129484                0.404291          0.420898         -0.376231   \n",
       "129485               -0.361660         -0.366038         -1.150180   \n",
       "129486                0.404291          1.207835          1.171668   \n",
       "\n",
       "        Baggage handling  Checkin service  Cleanliness  Online boarding  \\\n",
       "0              -0.601358         1.316301    -0.612919        -1.041526   \n",
       "1               0.263333        -1.063601    -0.612919        -1.041526   \n",
       "2               0.263333         0.523000     0.255379        -1.041526   \n",
       "3              -2.330739         0.523000    -2.349514        -0.271477   \n",
       "4              -1.466048         0.523000    -1.481216         1.268621   \n",
       "...                  ...              ...          ...              ...   \n",
       "129482          0.263333         0.523000     0.255379        -1.041526   \n",
       "129483         -0.601358        -1.856902    -1.481216        -1.811575   \n",
       "129484          0.263333        -1.063601    -0.612919        -1.041526   \n",
       "129485         -0.601358        -1.063601    -2.349514        -1.041526   \n",
       "129486          1.128024        -0.270301    -0.612919        -0.271477   \n",
       "\n",
       "        Departure Delay in Minutes  Arrival Delay in Minutes  \n",
       "0                        -0.386036                 -0.392329  \n",
       "1                         7.786328                  7.536854  \n",
       "2                        -0.386036                 -0.392329  \n",
       "3                        -0.386036                 -0.392329  \n",
       "4                        -0.386036                 -0.392329  \n",
       "...                            ...                       ...  \n",
       "129482                   -0.386036                 -0.392329  \n",
       "129483                    4.201033                  4.079210  \n",
       "129484                    3.700146                  3.845234  \n",
       "129485                    4.701920                  4.937122  \n",
       "129486                    4.491020                  4.443173  \n",
       "\n",
       "[129487 rows x 22 columns]"
      ]
     },
     "execution_count": 53,
     "metadata": {},
     "output_type": "execute_result"
    }
   ],
   "source": [
    "X"
   ]
  },
  {
   "cell_type": "code",
   "execution_count": 50,
   "metadata": {},
   "outputs": [
    {
     "data": {
      "image/png": "[encoded data removed]",
      "text/plain": [
       "<Figure size 432x288 with 2 Axes>"
      ]
     },
     "metadata": {
      "needs_background": "light"
     },
     "output_type": "display_data"
    }
   ],
   "source": [
    "import seaborn as sn\n",
    "ht = sn.heatmap(df_sc.corr(),center=0,cmap='coolwarm')"
   ]
  },
  {
   "cell_type": "code",
   "execution_count": 54,
   "metadata": {},
   "outputs": [
    {
     "name": "stdout",
     "output_type": "stream",
     "text": [
      "<class 'pandas.core.frame.DataFrame'>\n",
      "RangeIndex: 129487 entries, 0 to 129486\n",
      "Data columns (total 23 columns):\n",
      " #   Column                             Non-Null Count   Dtype  \n",
      "---  ------                             --------------   -----  \n",
      " 0   satisfaction                       129487 non-null  float64\n",
      " 1   Gender                             129487 non-null  float64\n",
      " 2   Customer Type                      129487 non-null  float64\n",
      " 3   Age                                129487 non-null  float64\n",
      " 4   Type of Travel                     129487 non-null  float64\n",
      " 5   Class                              129487 non-null  float64\n",
      " 6   Flight Distance                    129487 non-null  float64\n",
      " 7   Seat comfort                       129487 non-null  float64\n",
      " 8   Departure/Arrival time convenient  129487 non-null  float64\n",
      " 9   Food and drink                     129487 non-null  float64\n",
      " 10  Gate location                      129487 non-null  float64\n",
      " 11  Inflight wifi service              129487 non-null  float64\n",
      " 12  Inflight entertainment             129487 non-null  float64\n",
      " 13  Online support                     129487 non-null  float64\n",
      " 14  Ease of Online booking             129487 non-null  float64\n",
      " 15  On-board service                   129487 non-null  float64\n",
      " 16  Leg room service                   129487 non-null  float64\n",
      " 17  Baggage handling                   129487 non-null  float64\n",
      " 18  Checkin service                    129487 non-null  float64\n",
      " 19  Cleanliness                        129487 non-null  float64\n",
      " 20  Online boarding                    129487 non-null  float64\n",
      " 21  Departure Delay in Minutes         129487 non-null  float64\n",
      " 22  Arrival Delay in Minutes           129487 non-null  float64\n",
      "dtypes: float64(23)\n",
      "memory usage: 22.7 MB\n"
     ]
    }
   ],
   "source": [
    "df_sc.info()"
   ]
  },
  {
   "cell_type": "code",
   "execution_count": 55,
   "metadata": {},
   "outputs": [],
   "source": [
    "X = df_sc[['Inflight entertainment','Online support','Ease of Online booking','On-board service','Online boarding',\n",
    "              'Customer Type','Baggage handling','Leg room service','Seat comfort']]\n"
   ]
  },
  {
   "cell_type": "code",
   "execution_count": 56,
   "metadata": {},
   "outputs": [],
   "source": [
    "from pandas.plotting import scatter_matrix\n",
    "attributes = ['Inflight entertainment','Online support','Ease of Online booking','On-board service','Online boarding',\n",
    "              'Customer Type','Baggage handling','Leg room service','Seat comfort']"
   ]
  },
  {
   "cell_type": "code",
   "execution_count": 60,
   "metadata": {},
   "outputs": [],
   "source": [
    "from sklearn.model_selection import train_test_split\n",
    "X_train, X_test, y_train, y_test = train_test_split(X,y,random_state=0,test_size=0.3)"
   ]
  },
  {
   "cell_type": "code",
   "execution_count": 61,
   "metadata": {},
   "outputs": [],
   "source": [
    "from sklearn import linear_model\n",
    "mlr = linear_model.LinearRegression()"
   ]
  },
  {
   "cell_type": "code",
   "execution_count": 62,
   "metadata": {},
   "outputs": [
    {
     "data": {
      "text/plain": [
       "0.41245274259502523"
      ]
     },
     "execution_count": 62,
     "metadata": {},
     "output_type": "execute_result"
    }
   ],
   "source": [
    "from sklearn.model_selection import cross_val_score\n",
    "cross_val_score(mlr,X_train,y_train,cv=10).mean()"
   ]
  },
  {
   "cell_type": "code",
   "execution_count": 71,
   "metadata": {},
   "outputs": [
    {
     "data": {
      "text/plain": [
       "pandas.core.frame.DataFrame"
      ]
     },
     "execution_count": 71,
     "metadata": {},
     "output_type": "execute_result"
    }
   ],
   "source": [
    "type(X)"
   ]
  },
  {
   "cell_type": "code",
   "execution_count": 72,
   "metadata": {},
   "outputs": [
    {
     "ename": "ValueError",
     "evalue": "Unknown label type: 'continuous'",
     "output_type": "error",
     "traceback": [
      "\u001b[1;31m---------------------------------------------------------------------------\u001b[0m",
      "\u001b[1;31mValueError\u001b[0m                                Traceback (most recent call last)",
      "\u001b[1;32m<ipython-input-72-26fa93fced76>\u001b[0m in \u001b[0;36m<module>\u001b[1;34m\u001b[0m\n\u001b[0;32m      1\u001b[0m \u001b[1;32mfrom\u001b[0m \u001b[0msklearn\u001b[0m\u001b[1;33m.\u001b[0m\u001b[0mlinear_model\u001b[0m \u001b[1;32mimport\u001b[0m \u001b[0mLogisticRegression\u001b[0m\u001b[1;33m\u001b[0m\u001b[1;33m\u001b[0m\u001b[0m\n\u001b[0;32m      2\u001b[0m \u001b[0mmodel\u001b[0m \u001b[1;33m=\u001b[0m \u001b[0mLogisticRegression\u001b[0m\u001b[1;33m(\u001b[0m\u001b[1;33m)\u001b[0m\u001b[1;33m\u001b[0m\u001b[1;33m\u001b[0m\u001b[0m\n\u001b[1;32m----> 3\u001b[1;33m \u001b[0mmodel\u001b[0m\u001b[1;33m.\u001b[0m\u001b[0mfit\u001b[0m\u001b[1;33m(\u001b[0m\u001b[0mX_train\u001b[0m\u001b[1;33m,\u001b[0m\u001b[0my_train\u001b[0m\u001b[1;33m)\u001b[0m\u001b[1;33m\u001b[0m\u001b[1;33m\u001b[0m\u001b[0m\n\u001b[0m\u001b[0;32m      4\u001b[0m \u001b[0mmodel\u001b[0m\u001b[1;33m.\u001b[0m\u001b[0mscore\u001b[0m\u001b[1;33m(\u001b[0m\u001b[0mX_test\u001b[0m\u001b[1;33m,\u001b[0m\u001b[0my_test\u001b[0m\u001b[1;33m)\u001b[0m\u001b[1;33m\u001b[0m\u001b[1;33m\u001b[0m\u001b[0m\n",
      "\u001b[1;32m~\\anaconda3\\lib\\site-packages\\sklearn\\linear_model\\_logistic.py\u001b[0m in \u001b[0;36mfit\u001b[1;34m(self, X, y, sample_weight)\u001b[0m\n\u001b[0;32m   1343\u001b[0m                                    \u001b[0morder\u001b[0m\u001b[1;33m=\u001b[0m\u001b[1;34m\"C\"\u001b[0m\u001b[1;33m,\u001b[0m\u001b[1;33m\u001b[0m\u001b[1;33m\u001b[0m\u001b[0m\n\u001b[0;32m   1344\u001b[0m                                    accept_large_sparse=solver != 'liblinear')\n\u001b[1;32m-> 1345\u001b[1;33m         \u001b[0mcheck_classification_targets\u001b[0m\u001b[1;33m(\u001b[0m\u001b[0my\u001b[0m\u001b[1;33m)\u001b[0m\u001b[1;33m\u001b[0m\u001b[1;33m\u001b[0m\u001b[0m\n\u001b[0m\u001b[0;32m   1346\u001b[0m         \u001b[0mself\u001b[0m\u001b[1;33m.\u001b[0m\u001b[0mclasses_\u001b[0m \u001b[1;33m=\u001b[0m \u001b[0mnp\u001b[0m\u001b[1;33m.\u001b[0m\u001b[0munique\u001b[0m\u001b[1;33m(\u001b[0m\u001b[0my\u001b[0m\u001b[1;33m)\u001b[0m\u001b[1;33m\u001b[0m\u001b[1;33m\u001b[0m\u001b[0m\n\u001b[0;32m   1347\u001b[0m \u001b[1;33m\u001b[0m\u001b[0m\n",
      "\u001b[1;32m~\\anaconda3\\lib\\site-packages\\sklearn\\utils\\multiclass.py\u001b[0m in \u001b[0;36mcheck_classification_targets\u001b[1;34m(y)\u001b[0m\n\u001b[0;32m    170\u001b[0m     if y_type not in ['binary', 'multiclass', 'multiclass-multioutput',\n\u001b[0;32m    171\u001b[0m                       'multilabel-indicator', 'multilabel-sequences']:\n\u001b[1;32m--> 172\u001b[1;33m         \u001b[1;32mraise\u001b[0m \u001b[0mValueError\u001b[0m\u001b[1;33m(\u001b[0m\u001b[1;34m\"Unknown label type: %r\"\u001b[0m \u001b[1;33m%\u001b[0m \u001b[0my_type\u001b[0m\u001b[1;33m)\u001b[0m\u001b[1;33m\u001b[0m\u001b[1;33m\u001b[0m\u001b[0m\n\u001b[0m\u001b[0;32m    173\u001b[0m \u001b[1;33m\u001b[0m\u001b[0m\n\u001b[0;32m    174\u001b[0m \u001b[1;33m\u001b[0m\u001b[0m\n",
      "\u001b[1;31mValueError\u001b[0m: Unknown label type: 'continuous'"
     ]
    }
   ],
   "source": [
    "from sklearn.linear_model import LogisticRegression\n",
    "model = LogisticRegression()\n",
    "model.fit(X_train,y_train)\n",
    "model.score(X_test,y_test)"
   ]
  },
  {
   "cell_type": "code",
   "execution_count": null,
   "metadata": {},
   "outputs": [],
   "source": []
  },
  {
   "cell_type": "code",
   "execution_count": 64,
   "metadata": {},
   "outputs": [],
   "source": [
    "from sklearn.linear_model import LogisticRegression\n",
    "\n",
    "log = LogisticRegression(penalty='l2', dual=False, tol=0.0001, C=0.5, fit_intercept=True, \n",
    "                         intercept_scaling=1, class_weight=None, random_state=5, solver='sag', \n",
    "                         max_iter=100, multi_class='ovr', l1_ratio=None)\n",
    "\n",
    "#log = LogisticRegression()"
   ]
  },
  {
   "cell_type": "code",
   "execution_count": 65,
   "metadata": {},
   "outputs": [],
   "source": [
    "from sklearn.model_selection import GridSearchCV\n",
    "params = {'tol':[0.0001,0.0002], 'C':[0.1,0.2,0.3,0.4,0.5],'solver':['lbfgs','sag','liblinear'], \n",
    "          'multi_class':['auto','ovr','multinomial']}\n",
    "log = GridSearchCV(estimator=LogisticRegression, param_grid=params, refit=True, cv=None)"
   ]
  },
  {
   "cell_type": "code",
   "execution_count": null,
   "metadata": {},
   "outputs": [],
   "source": [
    "log.fit(X_train,y_train)"
   ]
  },
  {
   "cell_type": "code",
   "execution_count": 261,
   "metadata": {},
   "outputs": [
    {
     "name": "stdout",
     "output_type": "stream",
     "text": [
      "Cross Validation Score using Logistic Regression =  nan\n"
     ]
    },
    {
     "name": "stderr",
     "output_type": "stream",
     "text": [
      "C:\\Users\\Jordi\\anaconda3\\lib\\site-packages\\sklearn\\model_selection\\_validation.py:548: FitFailedWarning: Estimator fit failed. The score on this train-test partition for these parameters will be set to nan. Details: \n",
      "Traceback (most recent call last):\n",
      "  File \"C:\\Users\\Jordi\\anaconda3\\lib\\site-packages\\sklearn\\model_selection\\_validation.py\", line 531, in _fit_and_score\n",
      "    estimator.fit(X_train, y_train, **fit_params)\n",
      "  File \"C:\\Users\\Jordi\\anaconda3\\lib\\site-packages\\sklearn\\linear_model\\_logistic.py\", line 1345, in fit\n",
      "    check_classification_targets(y)\n",
      "  File \"C:\\Users\\Jordi\\anaconda3\\lib\\site-packages\\sklearn\\utils\\multiclass.py\", line 172, in check_classification_targets\n",
      "    raise ValueError(\"Unknown label type: %r\" % y_type)\n",
      "ValueError: Unknown label type: 'continuous'\n",
      "\n",
      "  warnings.warn(\"Estimator fit failed. The score on this train-test\"\n",
      "C:\\Users\\Jordi\\anaconda3\\lib\\site-packages\\sklearn\\model_selection\\_validation.py:548: FitFailedWarning: Estimator fit failed. The score on this train-test partition for these parameters will be set to nan. Details: \n",
      "Traceback (most recent call last):\n",
      "  File \"C:\\Users\\Jordi\\anaconda3\\lib\\site-packages\\sklearn\\model_selection\\_validation.py\", line 531, in _fit_and_score\n",
      "    estimator.fit(X_train, y_train, **fit_params)\n",
      "  File \"C:\\Users\\Jordi\\anaconda3\\lib\\site-packages\\sklearn\\linear_model\\_logistic.py\", line 1345, in fit\n",
      "    check_classification_targets(y)\n",
      "  File \"C:\\Users\\Jordi\\anaconda3\\lib\\site-packages\\sklearn\\utils\\multiclass.py\", line 172, in check_classification_targets\n",
      "    raise ValueError(\"Unknown label type: %r\" % y_type)\n",
      "ValueError: Unknown label type: 'continuous'\n",
      "\n",
      "  warnings.warn(\"Estimator fit failed. The score on this train-test\"\n",
      "C:\\Users\\Jordi\\anaconda3\\lib\\site-packages\\sklearn\\model_selection\\_validation.py:548: FitFailedWarning: Estimator fit failed. The score on this train-test partition for these parameters will be set to nan. Details: \n",
      "Traceback (most recent call last):\n",
      "  File \"C:\\Users\\Jordi\\anaconda3\\lib\\site-packages\\sklearn\\model_selection\\_validation.py\", line 531, in _fit_and_score\n",
      "    estimator.fit(X_train, y_train, **fit_params)\n",
      "  File \"C:\\Users\\Jordi\\anaconda3\\lib\\site-packages\\sklearn\\linear_model\\_logistic.py\", line 1345, in fit\n",
      "    check_classification_targets(y)\n",
      "  File \"C:\\Users\\Jordi\\anaconda3\\lib\\site-packages\\sklearn\\utils\\multiclass.py\", line 172, in check_classification_targets\n",
      "    raise ValueError(\"Unknown label type: %r\" % y_type)\n",
      "ValueError: Unknown label type: 'continuous'\n",
      "\n",
      "  warnings.warn(\"Estimator fit failed. The score on this train-test\"\n",
      "C:\\Users\\Jordi\\anaconda3\\lib\\site-packages\\sklearn\\model_selection\\_validation.py:548: FitFailedWarning: Estimator fit failed. The score on this train-test partition for these parameters will be set to nan. Details: \n",
      "Traceback (most recent call last):\n",
      "  File \"C:\\Users\\Jordi\\anaconda3\\lib\\site-packages\\sklearn\\model_selection\\_validation.py\", line 531, in _fit_and_score\n",
      "    estimator.fit(X_train, y_train, **fit_params)\n",
      "  File \"C:\\Users\\Jordi\\anaconda3\\lib\\site-packages\\sklearn\\linear_model\\_logistic.py\", line 1345, in fit\n",
      "    check_classification_targets(y)\n",
      "  File \"C:\\Users\\Jordi\\anaconda3\\lib\\site-packages\\sklearn\\utils\\multiclass.py\", line 172, in check_classification_targets\n",
      "    raise ValueError(\"Unknown label type: %r\" % y_type)\n",
      "ValueError: Unknown label type: 'continuous'\n",
      "\n",
      "  warnings.warn(\"Estimator fit failed. The score on this train-test\"\n",
      "C:\\Users\\Jordi\\anaconda3\\lib\\site-packages\\sklearn\\model_selection\\_validation.py:548: FitFailedWarning: Estimator fit failed. The score on this train-test partition for these parameters will be set to nan. Details: \n",
      "Traceback (most recent call last):\n",
      "  File \"C:\\Users\\Jordi\\anaconda3\\lib\\site-packages\\sklearn\\model_selection\\_validation.py\", line 531, in _fit_and_score\n",
      "    estimator.fit(X_train, y_train, **fit_params)\n",
      "  File \"C:\\Users\\Jordi\\anaconda3\\lib\\site-packages\\sklearn\\linear_model\\_logistic.py\", line 1345, in fit\n",
      "    check_classification_targets(y)\n",
      "  File \"C:\\Users\\Jordi\\anaconda3\\lib\\site-packages\\sklearn\\utils\\multiclass.py\", line 172, in check_classification_targets\n",
      "    raise ValueError(\"Unknown label type: %r\" % y_type)\n",
      "ValueError: Unknown label type: 'continuous'\n",
      "\n",
      "  warnings.warn(\"Estimator fit failed. The score on this train-test\"\n",
      "C:\\Users\\Jordi\\anaconda3\\lib\\site-packages\\sklearn\\model_selection\\_validation.py:548: FitFailedWarning: Estimator fit failed. The score on this train-test partition for these parameters will be set to nan. Details: \n",
      "Traceback (most recent call last):\n",
      "  File \"C:\\Users\\Jordi\\anaconda3\\lib\\site-packages\\sklearn\\model_selection\\_validation.py\", line 531, in _fit_and_score\n",
      "    estimator.fit(X_train, y_train, **fit_params)\n",
      "  File \"C:\\Users\\Jordi\\anaconda3\\lib\\site-packages\\sklearn\\linear_model\\_logistic.py\", line 1345, in fit\n",
      "    check_classification_targets(y)\n",
      "  File \"C:\\Users\\Jordi\\anaconda3\\lib\\site-packages\\sklearn\\utils\\multiclass.py\", line 172, in check_classification_targets\n",
      "    raise ValueError(\"Unknown label type: %r\" % y_type)\n",
      "ValueError: Unknown label type: 'continuous'\n",
      "\n",
      "  warnings.warn(\"Estimator fit failed. The score on this train-test\"\n",
      "C:\\Users\\Jordi\\anaconda3\\lib\\site-packages\\sklearn\\model_selection\\_validation.py:548: FitFailedWarning: Estimator fit failed. The score on this train-test partition for these parameters will be set to nan. Details: \n",
      "Traceback (most recent call last):\n",
      "  File \"C:\\Users\\Jordi\\anaconda3\\lib\\site-packages\\sklearn\\model_selection\\_validation.py\", line 531, in _fit_and_score\n",
      "    estimator.fit(X_train, y_train, **fit_params)\n",
      "  File \"C:\\Users\\Jordi\\anaconda3\\lib\\site-packages\\sklearn\\linear_model\\_logistic.py\", line 1345, in fit\n",
      "    check_classification_targets(y)\n",
      "  File \"C:\\Users\\Jordi\\anaconda3\\lib\\site-packages\\sklearn\\utils\\multiclass.py\", line 172, in check_classification_targets\n",
      "    raise ValueError(\"Unknown label type: %r\" % y_type)\n",
      "ValueError: Unknown label type: 'continuous'\n",
      "\n",
      "  warnings.warn(\"Estimator fit failed. The score on this train-test\"\n",
      "C:\\Users\\Jordi\\anaconda3\\lib\\site-packages\\sklearn\\model_selection\\_validation.py:548: FitFailedWarning: Estimator fit failed. The score on this train-test partition for these parameters will be set to nan. Details: \n",
      "Traceback (most recent call last):\n",
      "  File \"C:\\Users\\Jordi\\anaconda3\\lib\\site-packages\\sklearn\\model_selection\\_validation.py\", line 531, in _fit_and_score\n",
      "    estimator.fit(X_train, y_train, **fit_params)\n",
      "  File \"C:\\Users\\Jordi\\anaconda3\\lib\\site-packages\\sklearn\\linear_model\\_logistic.py\", line 1345, in fit\n",
      "    check_classification_targets(y)\n",
      "  File \"C:\\Users\\Jordi\\anaconda3\\lib\\site-packages\\sklearn\\utils\\multiclass.py\", line 172, in check_classification_targets\n",
      "    raise ValueError(\"Unknown label type: %r\" % y_type)\n",
      "ValueError: Unknown label type: 'continuous'\n",
      "\n",
      "  warnings.warn(\"Estimator fit failed. The score on this train-test\"\n",
      "C:\\Users\\Jordi\\anaconda3\\lib\\site-packages\\sklearn\\model_selection\\_validation.py:548: FitFailedWarning: Estimator fit failed. The score on this train-test partition for these parameters will be set to nan. Details: \n",
      "Traceback (most recent call last):\n",
      "  File \"C:\\Users\\Jordi\\anaconda3\\lib\\site-packages\\sklearn\\model_selection\\_validation.py\", line 531, in _fit_and_score\n",
      "    estimator.fit(X_train, y_train, **fit_params)\n",
      "  File \"C:\\Users\\Jordi\\anaconda3\\lib\\site-packages\\sklearn\\linear_model\\_logistic.py\", line 1345, in fit\n",
      "    check_classification_targets(y)\n",
      "  File \"C:\\Users\\Jordi\\anaconda3\\lib\\site-packages\\sklearn\\utils\\multiclass.py\", line 172, in check_classification_targets\n",
      "    raise ValueError(\"Unknown label type: %r\" % y_type)\n",
      "ValueError: Unknown label type: 'continuous'\n",
      "\n",
      "  warnings.warn(\"Estimator fit failed. The score on this train-test\"\n",
      "C:\\Users\\Jordi\\anaconda3\\lib\\site-packages\\sklearn\\model_selection\\_validation.py:548: FitFailedWarning: Estimator fit failed. The score on this train-test partition for these parameters will be set to nan. Details: \n",
      "Traceback (most recent call last):\n",
      "  File \"C:\\Users\\Jordi\\anaconda3\\lib\\site-packages\\sklearn\\model_selection\\_validation.py\", line 531, in _fit_and_score\n",
      "    estimator.fit(X_train, y_train, **fit_params)\n",
      "  File \"C:\\Users\\Jordi\\anaconda3\\lib\\site-packages\\sklearn\\linear_model\\_logistic.py\", line 1345, in fit\n",
      "    check_classification_targets(y)\n",
      "  File \"C:\\Users\\Jordi\\anaconda3\\lib\\site-packages\\sklearn\\utils\\multiclass.py\", line 172, in check_classification_targets\n",
      "    raise ValueError(\"Unknown label type: %r\" % y_type)\n",
      "ValueError: Unknown label type: 'continuous'\n",
      "\n",
      "  warnings.warn(\"Estimator fit failed. The score on this train-test\"\n"
     ]
    }
   ],
   "source": [
    "from sklearn.model_selection import cross_val_score\n",
    "print('Cross Validation Score using Logistic Regression = ', cross_val_score(log,X_train,y_train,cv=10).mean())"
   ]
  },
  {
   "cell_type": "code",
   "execution_count": 67,
   "metadata": {},
   "outputs": [],
   "source": [
    "import numpy as np\n",
    "from sklearn.neighbors import KNeighborsClassifier\n",
    "knn = KNeighborsClassifier(n_neighbors=5, weights='uniform')"
   ]
  },
  {
   "cell_type": "code",
   "execution_count": 68,
   "metadata": {},
   "outputs": [
    {
     "name": "stdout",
     "output_type": "stream",
     "text": [
      "Cross Validation Score using Knn Classifier =  nan\n"
     ]
    },
    {
     "name": "stderr",
     "output_type": "stream",
     "text": [
      "C:\\Users\\Jordi\\anaconda3\\lib\\site-packages\\sklearn\\model_selection\\_validation.py:548: FitFailedWarning: Estimator fit failed. The score on this train-test partition for these parameters will be set to nan. Details: \n",
      "Traceback (most recent call last):\n",
      "  File \"C:\\Users\\Jordi\\anaconda3\\lib\\site-packages\\sklearn\\model_selection\\_validation.py\", line 531, in _fit_and_score\n",
      "    estimator.fit(X_train, y_train, **fit_params)\n",
      "  File \"C:\\Users\\Jordi\\anaconda3\\lib\\site-packages\\sklearn\\neighbors\\_base.py\", line 1146, in fit\n",
      "    check_classification_targets(y)\n",
      "  File \"C:\\Users\\Jordi\\anaconda3\\lib\\site-packages\\sklearn\\utils\\multiclass.py\", line 172, in check_classification_targets\n",
      "    raise ValueError(\"Unknown label type: %r\" % y_type)\n",
      "ValueError: Unknown label type: 'continuous'\n",
      "\n",
      "  warnings.warn(\"Estimator fit failed. The score on this train-test\"\n",
      "C:\\Users\\Jordi\\anaconda3\\lib\\site-packages\\sklearn\\model_selection\\_validation.py:548: FitFailedWarning: Estimator fit failed. The score on this train-test partition for these parameters will be set to nan. Details: \n",
      "Traceback (most recent call last):\n",
      "  File \"C:\\Users\\Jordi\\anaconda3\\lib\\site-packages\\sklearn\\model_selection\\_validation.py\", line 531, in _fit_and_score\n",
      "    estimator.fit(X_train, y_train, **fit_params)\n",
      "  File \"C:\\Users\\Jordi\\anaconda3\\lib\\site-packages\\sklearn\\neighbors\\_base.py\", line 1146, in fit\n",
      "    check_classification_targets(y)\n",
      "  File \"C:\\Users\\Jordi\\anaconda3\\lib\\site-packages\\sklearn\\utils\\multiclass.py\", line 172, in check_classification_targets\n",
      "    raise ValueError(\"Unknown label type: %r\" % y_type)\n",
      "ValueError: Unknown label type: 'continuous'\n",
      "\n",
      "  warnings.warn(\"Estimator fit failed. The score on this train-test\"\n",
      "C:\\Users\\Jordi\\anaconda3\\lib\\site-packages\\sklearn\\model_selection\\_validation.py:548: FitFailedWarning: Estimator fit failed. The score on this train-test partition for these parameters will be set to nan. Details: \n",
      "Traceback (most recent call last):\n",
      "  File \"C:\\Users\\Jordi\\anaconda3\\lib\\site-packages\\sklearn\\model_selection\\_validation.py\", line 531, in _fit_and_score\n",
      "    estimator.fit(X_train, y_train, **fit_params)\n",
      "  File \"C:\\Users\\Jordi\\anaconda3\\lib\\site-packages\\sklearn\\neighbors\\_base.py\", line 1146, in fit\n",
      "    check_classification_targets(y)\n",
      "  File \"C:\\Users\\Jordi\\anaconda3\\lib\\site-packages\\sklearn\\utils\\multiclass.py\", line 172, in check_classification_targets\n",
      "    raise ValueError(\"Unknown label type: %r\" % y_type)\n",
      "ValueError: Unknown label type: 'continuous'\n",
      "\n",
      "  warnings.warn(\"Estimator fit failed. The score on this train-test\"\n",
      "C:\\Users\\Jordi\\anaconda3\\lib\\site-packages\\sklearn\\model_selection\\_validation.py:548: FitFailedWarning: Estimator fit failed. The score on this train-test partition for these parameters will be set to nan. Details: \n",
      "Traceback (most recent call last):\n",
      "  File \"C:\\Users\\Jordi\\anaconda3\\lib\\site-packages\\sklearn\\model_selection\\_validation.py\", line 531, in _fit_and_score\n",
      "    estimator.fit(X_train, y_train, **fit_params)\n",
      "  File \"C:\\Users\\Jordi\\anaconda3\\lib\\site-packages\\sklearn\\neighbors\\_base.py\", line 1146, in fit\n",
      "    check_classification_targets(y)\n",
      "  File \"C:\\Users\\Jordi\\anaconda3\\lib\\site-packages\\sklearn\\utils\\multiclass.py\", line 172, in check_classification_targets\n",
      "    raise ValueError(\"Unknown label type: %r\" % y_type)\n",
      "ValueError: Unknown label type: 'continuous'\n",
      "\n",
      "  warnings.warn(\"Estimator fit failed. The score on this train-test\"\n",
      "C:\\Users\\Jordi\\anaconda3\\lib\\site-packages\\sklearn\\model_selection\\_validation.py:548: FitFailedWarning: Estimator fit failed. The score on this train-test partition for these parameters will be set to nan. Details: \n",
      "Traceback (most recent call last):\n",
      "  File \"C:\\Users\\Jordi\\anaconda3\\lib\\site-packages\\sklearn\\model_selection\\_validation.py\", line 531, in _fit_and_score\n",
      "    estimator.fit(X_train, y_train, **fit_params)\n",
      "  File \"C:\\Users\\Jordi\\anaconda3\\lib\\site-packages\\sklearn\\neighbors\\_base.py\", line 1146, in fit\n",
      "    check_classification_targets(y)\n",
      "  File \"C:\\Users\\Jordi\\anaconda3\\lib\\site-packages\\sklearn\\utils\\multiclass.py\", line 172, in check_classification_targets\n",
      "    raise ValueError(\"Unknown label type: %r\" % y_type)\n",
      "ValueError: Unknown label type: 'continuous'\n",
      "\n",
      "  warnings.warn(\"Estimator fit failed. The score on this train-test\"\n",
      "C:\\Users\\Jordi\\anaconda3\\lib\\site-packages\\sklearn\\model_selection\\_validation.py:548: FitFailedWarning: Estimator fit failed. The score on this train-test partition for these parameters will be set to nan. Details: \n",
      "Traceback (most recent call last):\n",
      "  File \"C:\\Users\\Jordi\\anaconda3\\lib\\site-packages\\sklearn\\model_selection\\_validation.py\", line 531, in _fit_and_score\n",
      "    estimator.fit(X_train, y_train, **fit_params)\n",
      "  File \"C:\\Users\\Jordi\\anaconda3\\lib\\site-packages\\sklearn\\neighbors\\_base.py\", line 1146, in fit\n",
      "    check_classification_targets(y)\n",
      "  File \"C:\\Users\\Jordi\\anaconda3\\lib\\site-packages\\sklearn\\utils\\multiclass.py\", line 172, in check_classification_targets\n",
      "    raise ValueError(\"Unknown label type: %r\" % y_type)\n",
      "ValueError: Unknown label type: 'continuous'\n",
      "\n",
      "  warnings.warn(\"Estimator fit failed. The score on this train-test\"\n",
      "C:\\Users\\Jordi\\anaconda3\\lib\\site-packages\\sklearn\\model_selection\\_validation.py:548: FitFailedWarning: Estimator fit failed. The score on this train-test partition for these parameters will be set to nan. Details: \n",
      "Traceback (most recent call last):\n",
      "  File \"C:\\Users\\Jordi\\anaconda3\\lib\\site-packages\\sklearn\\model_selection\\_validation.py\", line 531, in _fit_and_score\n",
      "    estimator.fit(X_train, y_train, **fit_params)\n",
      "  File \"C:\\Users\\Jordi\\anaconda3\\lib\\site-packages\\sklearn\\neighbors\\_base.py\", line 1146, in fit\n",
      "    check_classification_targets(y)\n",
      "  File \"C:\\Users\\Jordi\\anaconda3\\lib\\site-packages\\sklearn\\utils\\multiclass.py\", line 172, in check_classification_targets\n",
      "    raise ValueError(\"Unknown label type: %r\" % y_type)\n",
      "ValueError: Unknown label type: 'continuous'\n",
      "\n",
      "  warnings.warn(\"Estimator fit failed. The score on this train-test\"\n",
      "C:\\Users\\Jordi\\anaconda3\\lib\\site-packages\\sklearn\\model_selection\\_validation.py:548: FitFailedWarning: Estimator fit failed. The score on this train-test partition for these parameters will be set to nan. Details: \n",
      "Traceback (most recent call last):\n",
      "  File \"C:\\Users\\Jordi\\anaconda3\\lib\\site-packages\\sklearn\\model_selection\\_validation.py\", line 531, in _fit_and_score\n",
      "    estimator.fit(X_train, y_train, **fit_params)\n",
      "  File \"C:\\Users\\Jordi\\anaconda3\\lib\\site-packages\\sklearn\\neighbors\\_base.py\", line 1146, in fit\n",
      "    check_classification_targets(y)\n",
      "  File \"C:\\Users\\Jordi\\anaconda3\\lib\\site-packages\\sklearn\\utils\\multiclass.py\", line 172, in check_classification_targets\n",
      "    raise ValueError(\"Unknown label type: %r\" % y_type)\n",
      "ValueError: Unknown label type: 'continuous'\n",
      "\n",
      "  warnings.warn(\"Estimator fit failed. The score on this train-test\"\n",
      "C:\\Users\\Jordi\\anaconda3\\lib\\site-packages\\sklearn\\model_selection\\_validation.py:548: FitFailedWarning: Estimator fit failed. The score on this train-test partition for these parameters will be set to nan. Details: \n",
      "Traceback (most recent call last):\n",
      "  File \"C:\\Users\\Jordi\\anaconda3\\lib\\site-packages\\sklearn\\model_selection\\_validation.py\", line 531, in _fit_and_score\n",
      "    estimator.fit(X_train, y_train, **fit_params)\n",
      "  File \"C:\\Users\\Jordi\\anaconda3\\lib\\site-packages\\sklearn\\neighbors\\_base.py\", line 1146, in fit\n",
      "    check_classification_targets(y)\n",
      "  File \"C:\\Users\\Jordi\\anaconda3\\lib\\site-packages\\sklearn\\utils\\multiclass.py\", line 172, in check_classification_targets\n",
      "    raise ValueError(\"Unknown label type: %r\" % y_type)\n",
      "ValueError: Unknown label type: 'continuous'\n",
      "\n",
      "  warnings.warn(\"Estimator fit failed. The score on this train-test\"\n",
      "C:\\Users\\Jordi\\anaconda3\\lib\\site-packages\\sklearn\\model_selection\\_validation.py:548: FitFailedWarning: Estimator fit failed. The score on this train-test partition for these parameters will be set to nan. Details: \n",
      "Traceback (most recent call last):\n",
      "  File \"C:\\Users\\Jordi\\anaconda3\\lib\\site-packages\\sklearn\\model_selection\\_validation.py\", line 531, in _fit_and_score\n",
      "    estimator.fit(X_train, y_train, **fit_params)\n",
      "  File \"C:\\Users\\Jordi\\anaconda3\\lib\\site-packages\\sklearn\\neighbors\\_base.py\", line 1146, in fit\n",
      "    check_classification_targets(y)\n",
      "  File \"C:\\Users\\Jordi\\anaconda3\\lib\\site-packages\\sklearn\\utils\\multiclass.py\", line 172, in check_classification_targets\n",
      "    raise ValueError(\"Unknown label type: %r\" % y_type)\n",
      "ValueError: Unknown label type: 'continuous'\n",
      "\n",
      "  warnings.warn(\"Estimator fit failed. The score on this train-test\"\n"
     ]
    }
   ],
   "source": [
    "print('Cross Validation Score using Knn Classifier = ', cross_val_score(knn,X_train,y_train,cv=10).mean())"
   ]
  },
  {
   "cell_type": "code",
   "execution_count": 69,
   "metadata": {},
   "outputs": [],
   "source": [
    "from sklearn.ensemble import RandomForestClassifier\n",
    "rf = RandomForestClassifier(n_estimators=50, criterion='gini', max_depth=None, min_samples_split=2, \n",
    "                            min_samples_leaf=1, min_weight_fraction_leaf=0.0, max_features='auto', \n",
    "                            max_leaf_nodes=None, min_impurity_decrease=0.0, min_impurity_split=None, \n",
    "                            bootstrap=True, oob_score=False, n_jobs=None, random_state=None, verbose=0, \n",
    "                            warm_start=False, class_weight=None, ccp_alpha=0.0, max_samples=None)"
   ]
  },
  {
   "cell_type": "code",
   "execution_count": 70,
   "metadata": {},
   "outputs": [
    {
     "name": "stdout",
     "output_type": "stream",
     "text": [
      "Cross Validation Score using Random Forest Classifier =  nan\n"
     ]
    },
    {
     "name": "stderr",
     "output_type": "stream",
     "text": [
      "C:\\Users\\Jordi\\anaconda3\\lib\\site-packages\\sklearn\\model_selection\\_validation.py:548: FitFailedWarning: Estimator fit failed. The score on this train-test partition for these parameters will be set to nan. Details: \n",
      "Traceback (most recent call last):\n",
      "  File \"C:\\Users\\Jordi\\anaconda3\\lib\\site-packages\\sklearn\\model_selection\\_validation.py\", line 531, in _fit_and_score\n",
      "    estimator.fit(X_train, y_train, **fit_params)\n",
      "  File \"C:\\Users\\Jordi\\anaconda3\\lib\\site-packages\\sklearn\\ensemble\\_forest.py\", line 330, in fit\n",
      "    y, expanded_class_weight = self._validate_y_class_weight(y)\n",
      "  File \"C:\\Users\\Jordi\\anaconda3\\lib\\site-packages\\sklearn\\ensemble\\_forest.py\", line 558, in _validate_y_class_weight\n",
      "    check_classification_targets(y)\n",
      "  File \"C:\\Users\\Jordi\\anaconda3\\lib\\site-packages\\sklearn\\utils\\multiclass.py\", line 172, in check_classification_targets\n",
      "    raise ValueError(\"Unknown label type: %r\" % y_type)\n",
      "ValueError: Unknown label type: 'continuous'\n",
      "\n",
      "  warnings.warn(\"Estimator fit failed. The score on this train-test\"\n",
      "C:\\Users\\Jordi\\anaconda3\\lib\\site-packages\\sklearn\\model_selection\\_validation.py:548: FitFailedWarning: Estimator fit failed. The score on this train-test partition for these parameters will be set to nan. Details: \n",
      "Traceback (most recent call last):\n",
      "  File \"C:\\Users\\Jordi\\anaconda3\\lib\\site-packages\\sklearn\\model_selection\\_validation.py\", line 531, in _fit_and_score\n",
      "    estimator.fit(X_train, y_train, **fit_params)\n",
      "  File \"C:\\Users\\Jordi\\anaconda3\\lib\\site-packages\\sklearn\\ensemble\\_forest.py\", line 330, in fit\n",
      "    y, expanded_class_weight = self._validate_y_class_weight(y)\n",
      "  File \"C:\\Users\\Jordi\\anaconda3\\lib\\site-packages\\sklearn\\ensemble\\_forest.py\", line 558, in _validate_y_class_weight\n",
      "    check_classification_targets(y)\n",
      "  File \"C:\\Users\\Jordi\\anaconda3\\lib\\site-packages\\sklearn\\utils\\multiclass.py\", line 172, in check_classification_targets\n",
      "    raise ValueError(\"Unknown label type: %r\" % y_type)\n",
      "ValueError: Unknown label type: 'continuous'\n",
      "\n",
      "  warnings.warn(\"Estimator fit failed. The score on this train-test\"\n",
      "C:\\Users\\Jordi\\anaconda3\\lib\\site-packages\\sklearn\\model_selection\\_validation.py:548: FitFailedWarning: Estimator fit failed. The score on this train-test partition for these parameters will be set to nan. Details: \n",
      "Traceback (most recent call last):\n",
      "  File \"C:\\Users\\Jordi\\anaconda3\\lib\\site-packages\\sklearn\\model_selection\\_validation.py\", line 531, in _fit_and_score\n",
      "    estimator.fit(X_train, y_train, **fit_params)\n",
      "  File \"C:\\Users\\Jordi\\anaconda3\\lib\\site-packages\\sklearn\\ensemble\\_forest.py\", line 330, in fit\n",
      "    y, expanded_class_weight = self._validate_y_class_weight(y)\n",
      "  File \"C:\\Users\\Jordi\\anaconda3\\lib\\site-packages\\sklearn\\ensemble\\_forest.py\", line 558, in _validate_y_class_weight\n",
      "    check_classification_targets(y)\n",
      "  File \"C:\\Users\\Jordi\\anaconda3\\lib\\site-packages\\sklearn\\utils\\multiclass.py\", line 172, in check_classification_targets\n",
      "    raise ValueError(\"Unknown label type: %r\" % y_type)\n",
      "ValueError: Unknown label type: 'continuous'\n",
      "\n",
      "  warnings.warn(\"Estimator fit failed. The score on this train-test\"\n",
      "C:\\Users\\Jordi\\anaconda3\\lib\\site-packages\\sklearn\\model_selection\\_validation.py:548: FitFailedWarning: Estimator fit failed. The score on this train-test partition for these parameters will be set to nan. Details: \n",
      "Traceback (most recent call last):\n",
      "  File \"C:\\Users\\Jordi\\anaconda3\\lib\\site-packages\\sklearn\\model_selection\\_validation.py\", line 531, in _fit_and_score\n",
      "    estimator.fit(X_train, y_train, **fit_params)\n",
      "  File \"C:\\Users\\Jordi\\anaconda3\\lib\\site-packages\\sklearn\\ensemble\\_forest.py\", line 330, in fit\n",
      "    y, expanded_class_weight = self._validate_y_class_weight(y)\n",
      "  File \"C:\\Users\\Jordi\\anaconda3\\lib\\site-packages\\sklearn\\ensemble\\_forest.py\", line 558, in _validate_y_class_weight\n",
      "    check_classification_targets(y)\n",
      "  File \"C:\\Users\\Jordi\\anaconda3\\lib\\site-packages\\sklearn\\utils\\multiclass.py\", line 172, in check_classification_targets\n",
      "    raise ValueError(\"Unknown label type: %r\" % y_type)\n",
      "ValueError: Unknown label type: 'continuous'\n",
      "\n",
      "  warnings.warn(\"Estimator fit failed. The score on this train-test\"\n",
      "C:\\Users\\Jordi\\anaconda3\\lib\\site-packages\\sklearn\\model_selection\\_validation.py:548: FitFailedWarning: Estimator fit failed. The score on this train-test partition for these parameters will be set to nan. Details: \n",
      "Traceback (most recent call last):\n",
      "  File \"C:\\Users\\Jordi\\anaconda3\\lib\\site-packages\\sklearn\\model_selection\\_validation.py\", line 531, in _fit_and_score\n",
      "    estimator.fit(X_train, y_train, **fit_params)\n",
      "  File \"C:\\Users\\Jordi\\anaconda3\\lib\\site-packages\\sklearn\\ensemble\\_forest.py\", line 330, in fit\n",
      "    y, expanded_class_weight = self._validate_y_class_weight(y)\n",
      "  File \"C:\\Users\\Jordi\\anaconda3\\lib\\site-packages\\sklearn\\ensemble\\_forest.py\", line 558, in _validate_y_class_weight\n",
      "    check_classification_targets(y)\n",
      "  File \"C:\\Users\\Jordi\\anaconda3\\lib\\site-packages\\sklearn\\utils\\multiclass.py\", line 172, in check_classification_targets\n",
      "    raise ValueError(\"Unknown label type: %r\" % y_type)\n",
      "ValueError: Unknown label type: 'continuous'\n",
      "\n",
      "  warnings.warn(\"Estimator fit failed. The score on this train-test\"\n",
      "C:\\Users\\Jordi\\anaconda3\\lib\\site-packages\\sklearn\\model_selection\\_validation.py:548: FitFailedWarning: Estimator fit failed. The score on this train-test partition for these parameters will be set to nan. Details: \n",
      "Traceback (most recent call last):\n",
      "  File \"C:\\Users\\Jordi\\anaconda3\\lib\\site-packages\\sklearn\\model_selection\\_validation.py\", line 531, in _fit_and_score\n",
      "    estimator.fit(X_train, y_train, **fit_params)\n",
      "  File \"C:\\Users\\Jordi\\anaconda3\\lib\\site-packages\\sklearn\\ensemble\\_forest.py\", line 330, in fit\n",
      "    y, expanded_class_weight = self._validate_y_class_weight(y)\n",
      "  File \"C:\\Users\\Jordi\\anaconda3\\lib\\site-packages\\sklearn\\ensemble\\_forest.py\", line 558, in _validate_y_class_weight\n",
      "    check_classification_targets(y)\n",
      "  File \"C:\\Users\\Jordi\\anaconda3\\lib\\site-packages\\sklearn\\utils\\multiclass.py\", line 172, in check_classification_targets\n",
      "    raise ValueError(\"Unknown label type: %r\" % y_type)\n",
      "ValueError: Unknown label type: 'continuous'\n",
      "\n",
      "  warnings.warn(\"Estimator fit failed. The score on this train-test\"\n",
      "C:\\Users\\Jordi\\anaconda3\\lib\\site-packages\\sklearn\\model_selection\\_validation.py:548: FitFailedWarning: Estimator fit failed. The score on this train-test partition for these parameters will be set to nan. Details: \n",
      "Traceback (most recent call last):\n",
      "  File \"C:\\Users\\Jordi\\anaconda3\\lib\\site-packages\\sklearn\\model_selection\\_validation.py\", line 531, in _fit_and_score\n",
      "    estimator.fit(X_train, y_train, **fit_params)\n",
      "  File \"C:\\Users\\Jordi\\anaconda3\\lib\\site-packages\\sklearn\\ensemble\\_forest.py\", line 330, in fit\n",
      "    y, expanded_class_weight = self._validate_y_class_weight(y)\n",
      "  File \"C:\\Users\\Jordi\\anaconda3\\lib\\site-packages\\sklearn\\ensemble\\_forest.py\", line 558, in _validate_y_class_weight\n",
      "    check_classification_targets(y)\n",
      "  File \"C:\\Users\\Jordi\\anaconda3\\lib\\site-packages\\sklearn\\utils\\multiclass.py\", line 172, in check_classification_targets\n",
      "    raise ValueError(\"Unknown label type: %r\" % y_type)\n",
      "ValueError: Unknown label type: 'continuous'\n",
      "\n",
      "  warnings.warn(\"Estimator fit failed. The score on this train-test\"\n",
      "C:\\Users\\Jordi\\anaconda3\\lib\\site-packages\\sklearn\\model_selection\\_validation.py:548: FitFailedWarning: Estimator fit failed. The score on this train-test partition for these parameters will be set to nan. Details: \n",
      "Traceback (most recent call last):\n",
      "  File \"C:\\Users\\Jordi\\anaconda3\\lib\\site-packages\\sklearn\\model_selection\\_validation.py\", line 531, in _fit_and_score\n",
      "    estimator.fit(X_train, y_train, **fit_params)\n",
      "  File \"C:\\Users\\Jordi\\anaconda3\\lib\\site-packages\\sklearn\\ensemble\\_forest.py\", line 330, in fit\n",
      "    y, expanded_class_weight = self._validate_y_class_weight(y)\n",
      "  File \"C:\\Users\\Jordi\\anaconda3\\lib\\site-packages\\sklearn\\ensemble\\_forest.py\", line 558, in _validate_y_class_weight\n",
      "    check_classification_targets(y)\n",
      "  File \"C:\\Users\\Jordi\\anaconda3\\lib\\site-packages\\sklearn\\utils\\multiclass.py\", line 172, in check_classification_targets\n",
      "    raise ValueError(\"Unknown label type: %r\" % y_type)\n",
      "ValueError: Unknown label type: 'continuous'\n",
      "\n",
      "  warnings.warn(\"Estimator fit failed. The score on this train-test\"\n",
      "C:\\Users\\Jordi\\anaconda3\\lib\\site-packages\\sklearn\\model_selection\\_validation.py:548: FitFailedWarning: Estimator fit failed. The score on this train-test partition for these parameters will be set to nan. Details: \n",
      "Traceback (most recent call last):\n",
      "  File \"C:\\Users\\Jordi\\anaconda3\\lib\\site-packages\\sklearn\\model_selection\\_validation.py\", line 531, in _fit_and_score\n",
      "    estimator.fit(X_train, y_train, **fit_params)\n",
      "  File \"C:\\Users\\Jordi\\anaconda3\\lib\\site-packages\\sklearn\\ensemble\\_forest.py\", line 330, in fit\n",
      "    y, expanded_class_weight = self._validate_y_class_weight(y)\n",
      "  File \"C:\\Users\\Jordi\\anaconda3\\lib\\site-packages\\sklearn\\ensemble\\_forest.py\", line 558, in _validate_y_class_weight\n",
      "    check_classification_targets(y)\n",
      "  File \"C:\\Users\\Jordi\\anaconda3\\lib\\site-packages\\sklearn\\utils\\multiclass.py\", line 172, in check_classification_targets\n",
      "    raise ValueError(\"Unknown label type: %r\" % y_type)\n",
      "ValueError: Unknown label type: 'continuous'\n",
      "\n",
      "  warnings.warn(\"Estimator fit failed. The score on this train-test\"\n",
      "C:\\Users\\Jordi\\anaconda3\\lib\\site-packages\\sklearn\\model_selection\\_validation.py:548: FitFailedWarning: Estimator fit failed. The score on this train-test partition for these parameters will be set to nan. Details: \n",
      "Traceback (most recent call last):\n",
      "  File \"C:\\Users\\Jordi\\anaconda3\\lib\\site-packages\\sklearn\\model_selection\\_validation.py\", line 531, in _fit_and_score\n",
      "    estimator.fit(X_train, y_train, **fit_params)\n",
      "  File \"C:\\Users\\Jordi\\anaconda3\\lib\\site-packages\\sklearn\\ensemble\\_forest.py\", line 330, in fit\n",
      "    y, expanded_class_weight = self._validate_y_class_weight(y)\n",
      "  File \"C:\\Users\\Jordi\\anaconda3\\lib\\site-packages\\sklearn\\ensemble\\_forest.py\", line 558, in _validate_y_class_weight\n",
      "    check_classification_targets(y)\n",
      "  File \"C:\\Users\\Jordi\\anaconda3\\lib\\site-packages\\sklearn\\utils\\multiclass.py\", line 172, in check_classification_targets\n",
      "    raise ValueError(\"Unknown label type: %r\" % y_type)\n",
      "ValueError: Unknown label type: 'continuous'\n",
      "\n",
      "  warnings.warn(\"Estimator fit failed. The score on this train-test\"\n"
     ]
    }
   ],
   "source": [
    "print('Cross Validation Score using Random Forest Classifier = ', cross_val_score(rf,X_train,y_train,cv=10).mean())"
   ]
  },
  {
   "cell_type": "code",
   "execution_count": null,
   "metadata": {},
   "outputs": [],
   "source": []
  }
 ],
 "metadata": {
  "kernelspec": {
   "display_name": "Python 3",
   "language": "python",
   "name": "python3"
  },
  "language_info": {
   "codemirror_mode": {
    "name": "ipython",
    "version": 3
   },
   "file_extension": ".py",
   "mimetype": "text/x-python",
   "name": "python",
   "nbconvert_exporter": "python",
   "pygments_lexer": "ipython3",
   "version": "3.8.3"
  }
 },
 "nbformat": 4,
 "nbformat_minor": 5
}
